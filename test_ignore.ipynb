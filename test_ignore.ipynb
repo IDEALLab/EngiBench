{
 "cells": [
  {
   "cell_type": "code",
   "execution_count": 10,
   "metadata": {},
   "outputs": [],
   "source": [
    "from engibench.problems.power_electronics.source import power_electronics_v0\n",
    "\n",
    "# Create a problem\n",
    "original_netlist_path = \"engibench/problems/power_electronics/data/netlist/5_4_3_6_10-dcdc_converter_1.net\"  # sweep 141\n",
    "bucket_id = \"5_4_3_6_10\"\n",
    "problem = power_electronics_v0.build(original_netlist_path=original_netlist_path, bucket_id=bucket_id)"
   ]
  }
 ],
 "metadata": {
  "kernelspec": {
   "display_name": "Python 3",
   "language": "python",
   "name": "python3"
  },
  "language_info": {
   "codemirror_mode": {
    "name": "ipython",
    "version": 3
   },
   "file_extension": ".py",
   "mimetype": "text/x-python",
   "name": "python",
   "nbconvert_exporter": "python",
   "pygments_lexer": "ipython3",
   "version": "3.9.6"
  }
 },
 "nbformat": 4,
 "nbformat_minor": 2
}
