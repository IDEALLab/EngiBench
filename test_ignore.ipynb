{
 "cells": [
  {
   "cell_type": "code",
   "execution_count": null,
   "metadata": {},
   "outputs": [
    {
     "ename": "TypeError",
     "evalue": "build() takes 0 positional arguments but 2 were given",
     "output_type": "error",
     "traceback": [
      "\u001b[1;31m---------------------------------------------------------------------------\u001b[0m",
      "\u001b[1;31mTypeError\u001b[0m                                 Traceback (most recent call last)",
      "Cell \u001b[1;32mIn[9], line 6\u001b[0m\n\u001b[0;32m      4\u001b[0m original_netlist_path \u001b[38;5;241m=\u001b[39m \u001b[38;5;124m\"\u001b[39m\u001b[38;5;124mengibench/problems/power_electronics/data/netlist/5_4_3_6_10-dcdc_converter_1.net\u001b[39m\u001b[38;5;124m\"\u001b[39m  \u001b[38;5;66;03m# sweep 141\u001b[39;00m\n\u001b[0;32m      5\u001b[0m bucket_id \u001b[38;5;241m=\u001b[39m \u001b[38;5;124m\"\u001b[39m\u001b[38;5;124m5_4_3_6_10\u001b[39m\u001b[38;5;124m\"\u001b[39m\n\u001b[1;32m----> 6\u001b[0m problem \u001b[38;5;241m=\u001b[39m \u001b[43mpower_electronics_v0\u001b[49m\u001b[38;5;241;43m.\u001b[39;49m\u001b[43mbuild\u001b[49m\u001b[43m(\u001b[49m\u001b[43moriginal_netlist_path\u001b[49m\u001b[43m,\u001b[49m\u001b[43m \u001b[49m\u001b[43mbucket_id\u001b[49m\u001b[43m)\u001b[49m\n",
      "\u001b[1;31mTypeError\u001b[0m: build() takes 0 positional arguments but 2 were given"
     ]
    }
   ],
   "source": [
    "from engibench.problems.power_electronics.source import power_electronics_v0\n",
    "\n",
    "# Create a problem\n",
    "original_netlist_path = \"engibench/problems/power_electronics/data/netlist/5_4_3_6_10-dcdc_converter_1.net\"  # sweep 141\n",
    "bucket_id = \"5_4_3_6_10\"\n",
    "problem = power_electronics_v0.build(original_netlist_path = original_netlist_path, bucket_id = bucket_id)"
   ]
  }
 ],
 "metadata": {
  "kernelspec": {
   "display_name": "Python 3",
   "language": "python",
   "name": "python3"
  },
  "language_info": {
   "codemirror_mode": {
    "name": "ipython",
    "version": 3
   },
   "file_extension": ".py",
   "mimetype": "text/x-python",
   "name": "python",
   "nbconvert_exporter": "python",
   "pygments_lexer": "ipython3",
   "version": "3.9.6"
  }
 },
 "nbformat": 4,
 "nbformat_minor": 2
}
