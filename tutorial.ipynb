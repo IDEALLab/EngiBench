{
 "cells": [
  {
   "cell_type": "markdown",
   "id": "b96ee2a7-dc47-4661-9c5b-aa725d2b6fe9",
   "metadata": {},
   "source": [
    "# EngiTuto\n",
    "\n",
    "This is a basic tutorial showing how to use EngiBench and interact with problems.\n",
    "\n",
    "Author: Florian Felten <ffelten@mavt.ethz.ch>"
   ]
  },
  {
   "cell_type": "code",
   "execution_count": 19,
   "id": "fec5d22a-ae5f-4b86-92bd-fd9591b672e5",
   "metadata": {
    "collapsed": true,
    "jupyter": {
     "outputs_hidden": true
    }
   },
   "outputs": [
    {
     "name": "stdout",
     "output_type": "stream",
     "text": [
      "Obtaining file:///Users/ffelte/Documents/EngiBench\n",
      "  Installing build dependencies ... \u001b[?25done\n",
      "\u001b[?25h  Checking if build backend supports build_editable ... \u001b[?25ldone\n",
      "\u001b[?25h  Getting requirements to build editable ... \u001b[?25ldone\n",
      "\u001b[?25h  Preparing editable metadata (pyproject.toml) ... \u001b[?25ldone\n",
      "\u001b[?25hRequirement already satisfied: numpy<=2.0 in ./venv/lib/python3.12/site-packages (from engibench==0.0.1) (1.26.4)\n",
      "Requirement already satisfied: gymnasium>=1.0.0 in ./venv/lib/python3.12/site-packages (from engibench==0.0.1) (1.0.0)\n",
      "Requirement already satisfied: datasets==3.1.0 in ./venv/lib/python3.12/site-packages (from datasets[vision]==3.1.0->engibench==0.0.1) (3.1.0)\n",
      "Requirement already satisfied: pandas>=2.2.3 in ./venv/lib/python3.12/site-packages (from engibench==0.0.1) (2.2.3)\n",
      "Requirement already satisfied: matplotlib>=3.9.3 in ./venv/lib/python3.12/site-packages (from engibench==0.0.1) (3.9.3)\n",
      "Requirement already satisfied: filelock in ./venv/lib/python3.12/site-packages (from datasets==3.1.0->datasets[vision]==3.1.0->engibench==0.0.1) (3.16.1)\n",
      "Requirement already satisfied: pyarrow>=15.0.0 in ./venv/lib/python3.12/site-packages (from datasets==3.1.0->datasets[vision]==3.1.0->engibench==0.0.1) (17.0.0)\n",
      "Requirement already satisfied: dill<0.3.9,>=0.3.0 in ./venv/lib/python3.12/site-packages (from datasets==3.1.0->datasets[vision]==3.1.0->engibench==0.0.1) (0.3.8)\n",
      "Requirement already satisfied: requests>=2.32.2 in ./venv/lib/python3.12/site-packages (from datasets==3.1.0->datasets[vision]==3.1.0->engibench==0.0.1) (2.32.3)\n",
      "Requirement already satisfied: tqdm>=4.66.3 in ./venv/lib/python3.12/site-packages (from datasets==3.1.0->datasets[vision]==3.1.0->engibench==0.0.1) (4.66.5)\n",
      "Requirement already satisfied: xxhash in ./venv/lib/python3.12/site-packages (from datasets==3.1.0->datasets[vision]==3.1.0->engibench==0.0.1) (3.5.0)\n",
      "Requirement already satisfied: multiprocess<0.70.17 in ./venv/lib/python3.12/site-packages (from datasets==3.1.0->datasets[vision]==3.1.0->engibench==0.0.1) (0.70.16)\n",
      "Requirement already satisfied: fsspec<=2024.9.0,>=2023.1.0 in ./venv/lib/python3.12/site-packages (from fsspec[http]<=2024.9.0,>=2023.1.0->datasets==3.1.0->datasets[vision]==3.1.0->engibench==0.0.1) (2024.6.1)\n",
      "Requirement already satisfied: aiohttp in ./venv/lib/python3.12/site-packages (from datasets==3.1.0->datasets[vision]==3.1.0->engibench==0.0.1) (3.10.5)\n",
      "Requirement already satisfied: huggingface-hub>=0.23.0 in ./venv/lib/python3.12/site-packages (from datasets==3.1.0->datasets[vision]==3.1.0->engibench==0.0.1) (0.25.0)\n",
      "Requirement already satisfied: packaging in ./venv/lib/python3.12/site-packages (from datasets==3.1.0->datasets[vision]==3.1.0->engibench==0.0.1) (24.1)\n",
      "Requirement already satisfied: pyyaml>=5.1 in ./venv/lib/python3.12/site-packages (from datasets==3.1.0->datasets[vision]==3.1.0->engibench==0.0.1) (6.0.2)\n",
      "Requirement already satisfied: Pillow>=9.4.0 in ./venv/lib/python3.12/site-packages (from datasets[vision]==3.1.0->engibench==0.0.1) (10.4.0)\n",
      "Collecting pyoptsparse@ git+https://github.com/mdolab/pyoptsparse#egg=7e862db49bbc8bde2b49dee686cce68c8d2ab9f0 (from engibench==0.0.1)\n",
      "  Cloning https://github.com/mdolab/pyoptsparse to /private/var/folders/fw/69hmbxm946l1xycg8w29nw0800l9gd/T/pip-install-kdqlym0d/pyoptsparse_fe81d0a304d546d0a8dd98c8ffa330f8\n",
      "  Running command git clone --filter=blob:none --quiet https://github.com/mdolab/pyoptsparse /private/var/folders/fw/69hmbxm946l1xycg8w29nw0800l9gd/T/pip-install-kdqlym0d/pyoptsparse_fe81d0a304d546d0a8dd98c8ffa330f8\n",
      "  Resolved https://github.com/mdolab/pyoptsparse to commit f66e9fbd6712dbb941794698cf87fc053c8a7986\n",
      "  Installing build dependencies ... \u001b[?done\n",
      "\u001b[?25h  Getting requirements to build wheel ... \u001b[?25ldone\n",
      "\u001b[?25h  Preparing metadata (pyproject.toml) ... \u001b[?25ldone\n",
      "\u001b[?25hRequirement already satisfied: cloudpickle>=1.2.0 in ./venv/lib/python3.12/site-packages (from gymnasium>=1.0.0->engibench==0.0.1) (3.0.0)\n",
      "Requirement already satisfied: typing-extensions>=4.3.0 in ./venv/lib/python3.12/site-packages (from gymnasium>=1.0.0->engibench==0.0.1) (4.12.2)\n",
      "Requirement already satisfied: farama-notifications>=0.0.1 in ./venv/lib/python3.12/site-packages (from gymnasium>=1.0.0->engibench==0.0.1) (0.0.4)\n",
      "Requirement already satisfied: contourpy>=1.0.1 in ./venv/lib/python3.12/site-packages (from matplotlib>=3.9.3->engibench==0.0.1) (1.3.1)\n",
      "Requirement already satisfied: cycler>=0.10 in ./venv/lib/python3.12/site-packages (from matplotlib>=3.9.3->engibench==0.0.1) (0.12.1)\n",
      "Requirement already satisfied: fonttools>=4.22.0 in ./venv/lib/python3.12/site-packages (from matplotlib>=3.9.3->engibench==0.0.1) (4.55.1)\n",
      "Requirement already satisfied: kiwisolver>=1.3.1 in ./venv/lib/python3.12/site-packages (from matplotlib>=3.9.3->engibench==0.0.1) (1.4.7)\n",
      "Requirement already satisfied: pyparsing>=2.3.1 in ./venv/lib/python3.12/site-packages (from matplotlib>=3.9.3->engibench==0.0.1) (3.2.0)\n",
      "Requirement already satisfied: python-dateutil>=2.7 in ./venv/lib/python3.12/site-packages (from matplotlib>=3.9.3->engibench==0.0.1) (2.9.0.post0)\n",
      "Requirement already satisfied: pytz>=2020.1 in ./venv/lib/python3.12/site-packages (from pandas>=2.2.3->engibench==0.0.1) (2024.2)\n",
      "Requirement already satisfied: tzdata>=2022.7 in ./venv/lib/python3.12/site-packages (from pandas>=2.2.3->engibench==0.0.1) (2024.1)\n",
      "Requirement already satisfied: sqlitedict>=1.6 in ./venv/lib/python3.12/site-packages (from pyoptsparse@ git+https://github.com/mdolab/pyoptsparse#egg=7e862db49bbc8bde2b49dee686cce68c8d2ab9f0->engibench==0.0.1) (2.1.0)\n",
      "Requirement already satisfied: scipy>=1.7 in ./venv/lib/python3.12/site-packages (from pyoptsparse@ git+https://github.com/mdolab/pyoptsparse#egg=7e862db49bbc8bde2b49dee686cce68c8d2ab9f0->engibench==0.0.1) (1.14.1)\n",
      "Requirement already satisfied: mdolab-baseclasses>=1.3.1 in ./venv/lib/python3.12/site-packages (from pyoptsparse@ git+https://github.com/mdolab/pyoptsparse#egg=7e862db49bbc8bde2b49dee686cce68c8d2ab9f0->engibench==0.0.1) (1.8.0)\n",
      "Requirement already satisfied: aiohappyeyeballs>=2.3.0 in ./venv/lib/python3.12/site-packages (from aiohttp->datasets==3.1.0->datasets[vision]==3.1.0->engibench==0.0.1) (2.4.0)\n",
      "Requirement already satisfied: aiosignal>=1.1.2 in ./venv/lib/python3.12/site-packages (from aiohttp->datasets==3.1.0->datasets[vision]==3.1.0->engibench==0.0.1) (1.3.1)\n",
      "Requirement already satisfied: attrs>=17.3.0 in ./venv/lib/python3.12/site-packages (from aiohttp->datasets==3.1.0->datasets[vision]==3.1.0->engibench==0.0.1) (24.2.0)\n",
      "Requirement already satisfied: frozenlist>=1.1.1 in ./venv/lib/python3.12/site-packages (from aiohttp->datasets==3.1.0->datasets[vision]==3.1.0->engibench==0.0.1) (1.4.1)\n",
      "Requirement already satisfied: multidict<7.0,>=4.5 in ./venv/lib/python3.12/site-packages (from aiohttp->datasets==3.1.0->datasets[vision]==3.1.0->engibench==0.0.1) (6.1.0)\n",
      "Requirement already satisfied: yarl<2.0,>=1.0 in ./venv/lib/python3.12/site-packages (from aiohttp->datasets==3.1.0->datasets[vision]==3.1.0->engibench==0.0.1) (1.11.1)\n",
      "Requirement already satisfied: six>=1.5 in ./venv/lib/python3.12/site-packages (from python-dateutil>=2.7->matplotlib>=3.9.3->engibench==0.0.1) (1.16.0)\n",
      "Requirement already satisfied: charset-normalizer<4,>=2 in ./venv/lib/python3.12/site-packages (from requests>=2.32.2->datasets==3.1.0->datasets[vision]==3.1.0->engibench==0.0.1) (3.3.2)\n",
      "Requirement already satisfied: idna<4,>=2.5 in ./venv/lib/python3.12/site-packages (from requests>=2.32.2->datasets==3.1.0->datasets[vision]==3.1.0->engibench==0.0.1) (3.10)\n",
      "Requirement already satisfied: urllib3<3,>=1.21.1 in ./venv/lib/python3.12/site-packages (from requests>=2.32.2->datasets==3.1.0->datasets[vision]==3.1.0->engibench==0.0.1) (2.2.3)\n",
      "Requirement already satisfied: certifi>=2017.4.17 in ./venv/lib/python3.12/site-packages (from requests>=2.32.2->datasets==3.1.0->datasets[vision]==3.1.0->engibench==0.0.1) (2024.8.30)\n",
      "Building wheels for collected packages: engibench\n",
      "  Building editable for engibench (pyproject.toml) ... \u001b[?25ldone\n",
      "\u001b[?25h  Created wheel for engibench: filename=engibench-0.0.1-0.editable-py3-none-any.whl size=5860 sha256=335e7050ee4484309e68d9b63d568d3bf153dbd78777372e0c673fe4ff360ae9\n",
      "  Stored in directory: /private/var/folders/fw/69hmbxm946l1xycg8w29nw0800l9gd/T/pip-ephem-wheel-cache-bo6f24f1/wheels/75/05/5c/548453ac7957e7ac5fe47d58428ec24bb290d220eabe5abaa8\n",
      "Successfully built engibench\n",
      "Installing collected packages: engibench\n",
      "  Attempting uninstall: engibench\n",
      "    Found existing installation: engibench 0.0.1\n",
      "    Uninstalling engibench-0.0.1:\n",
      "      Successfully uninstalled engibench-0.0.1\n",
      "Successfully installed engibench-0.0.1\n",
      "\n",
      "\u001b[1m[\u001b[0m\u001b[34;49mnotice\u001b[0m\u001b[1;39;49m]\u001b[0m\u001b[39;49m A new release of pip is available: \u001b[0m\u001b[31;49m24.2\u001b[0m\u001b[39;49m -> \u001b[0m\u001b[32;49m24.3.1\u001b[0m\n",
      "\u001b[1m[\u001b[0m\u001b[34;49mnotice\u001b[0m\u001b[1;39;49m]\u001b[0m\u001b[39;49m To update, run: \u001b[0m\u001b[32;49mpip install --upgrade pip\u001b[0m\n"
     ]
    }
   ],
   "source": [
    "!pip install -e \".[all]\""
   ]
  },
  {
   "cell_type": "markdown",
   "id": "23110d90-27af-4110-aecf-15c70a6bf312",
   "metadata": {},
   "source": [
    "## Step 1: Instantiate a Problem\n",
    "\n",
    "Let us see the 2D Airfoil problem"
   ]
  },
  {
   "cell_type": "code",
   "execution_count": 20,
   "id": "95eb27a2-25c1-49db-8494-bda712d135db",
   "metadata": {},
   "outputs": [],
   "source": [
    "from engibench.problems.airfoil2d import airfoil2d_v0"
   ]
  },
  {
   "cell_type": "code",
   "execution_count": 28,
   "id": "44ed0ebe-b218-44ee-819b-7d211050b8c9",
   "metadata": {},
   "outputs": [
    {
     "name": "stdout",
     "output_type": "stream",
     "text": [
      "u22-gcc-ompi-stable: Pulling from mdolab/public\n",
      "Digest: sha256:8a2349b7a2587b3317ad09b6a8096f615cc4c4283f43879e897e3ad53e830cd9\n",
      "Status: Image is up to date for mdolab/public:u22-gcc-ompi-stable\n",
      "docker.io/mdolab/public:u22-gcc-ompi-stable\n",
      "Creating study directory: /Users/ffelte/Documents/EngiBench/engibench_studies/problems/airfoil2d/study_99\n",
      "Copying files from /Users/ffelte/Documents/EngiBench/engibench/problems/airfoil2d/templates to /Users/ffelte/Documents/EngiBench/engibench_studies/problems/airfoil2d/study_99\n",
      "Creating study directory: /Users/ffelte/Documents/EngiBench/engibench_studies/problems/airfoil2d\n",
      "Copying files from /Users/ffelte/Documents/EngiBench/engibench/problems/airfoil2d/scripts to /Users/ffelte/Documents/EngiBench/engibench_studies/problems/airfoil2d\n"
     ]
    },
    {
     "name": "stderr",
     "output_type": "stream",
     "text": [
      "\n",
      "What's Next?\n",
      "  View a summary of image vulnerabilities and recommendations → docker scout quickview mdolab/public:u22-gcc-ompi-stable\n"
     ]
    }
   ],
   "source": [
    "problem = airfoil2d_v0.build()\n",
    "problem.reset(99)"
   ]
  },
  {
   "cell_type": "markdown",
   "id": "76f4aa2b-c07b-4e57-84b2-25c249683951",
   "metadata": {},
   "source": [
    "## Step 2: Inspect the Problem"
   ]
  },
  {
   "cell_type": "markdown",
   "id": "b90afd04-2c81-4af7-97e6-37cc43ac2faf",
   "metadata": {},
   "source": [
    "### 2.1: Representation, Objectives, Boundary Conditions\n",
    "The output just below means our airfoil is parameterized by 192 (`x, y`) positions in `[0, 1]`."
   ]
  },
  {
   "cell_type": "code",
   "execution_count": 22,
   "id": "79bc79cd-9301-422d-a4c0-d388a3444616",
   "metadata": {},
   "outputs": [
    {
     "data": {
      "text/plain": [
       "Box(0.0, 1.0, (2, 192), float32)"
      ]
     },
     "execution_count": 22,
     "metadata": {},
     "output_type": "execute_result"
    }
   ],
   "source": [
    "problem.design_space"
   ]
  },
  {
   "cell_type": "code",
   "execution_count": 23,
   "id": "5f264428-56d9-44e3-b242-2a4e5e355b68",
   "metadata": {},
   "outputs": [
    {
     "data": {
      "text/plain": [
       "frozenset({('cd', 'minimize'), ('cl', 'maximize')})"
      ]
     },
     "execution_count": 23,
     "metadata": {},
     "output_type": "execute_result"
    }
   ],
   "source": [
    "problem.possible_objectives"
   ]
  },
  {
   "cell_type": "code",
   "execution_count": 24,
   "id": "d50ffe26-0275-480f-82df-f05e6eac7ced",
   "metadata": {},
   "outputs": [
    {
     "data": {
      "text/plain": [
       "frozenset({('marchDist', 100.0), ('s0', 3e-06)})"
      ]
     },
     "execution_count": 24,
     "metadata": {},
     "output_type": "execute_result"
    }
   ],
   "source": [
    "problem.boundary_conditions"
   ]
  },
  {
   "cell_type": "markdown",
   "id": "90ae1749-f824-4b81-88e8-7232ab30bd80",
   "metadata": {},
   "source": [
    "### 2.2 Data\n",
    "We can directly access [the dataset linked to the problem](https://huggingface.co/datasets/IDEALLab/airfoil_2d_v0) doing the following:"
   ]
  },
  {
   "cell_type": "code",
   "execution_count": 25,
   "id": "6e5daaff-8720-474d-95cf-d64d4086d1e4",
   "metadata": {},
   "outputs": [
    {
     "data": {
      "text/plain": [
       "DatasetDict({\n",
       "    train: Dataset({\n",
       "        features: ['initial', 'optimized', 'mach', 'reynolds', 'cl_target', 'area_target', 'alpha', 'area_initial', 'cd_val', 'cl_val', 'cl_con', 'area_con'],\n",
       "        num_rows: 748\n",
       "    })\n",
       "    val: Dataset({\n",
       "        features: ['initial', 'optimized', 'mach', 'reynolds', 'cl_target', 'area_target', 'alpha', 'area_initial', 'cd_val', 'cl_val', 'cl_con', 'area_con'],\n",
       "        num_rows: 140\n",
       "    })\n",
       "    test: Dataset({\n",
       "        features: ['initial', 'optimized', 'mach', 'reynolds', 'cl_target', 'area_target', 'alpha', 'area_initial', 'cd_val', 'cl_val', 'cl_con', 'area_con'],\n",
       "        num_rows: 47\n",
       "    })\n",
       "})"
      ]
     },
     "execution_count": 25,
     "metadata": {},
     "output_type": "execute_result"
    }
   ],
   "source": [
    "problem.dataset"
   ]
  },
  {
   "cell_type": "markdown",
   "id": "43a3e506-073e-473f-a835-0396258e62ee",
   "metadata": {},
   "source": [
    "## Step 3: Creating a Design and Launching the Simulator\n",
    "While you usually would generate a design based on a generative or surrogate mode, we here show how to play with a rather random one."
   ]
  },
  {
   "cell_type": "code",
   "execution_count": null,
   "id": "b74db0b1-e661-4841-8b04-05aff15e4635",
   "metadata": {},
   "outputs": [],
   "source": [
    "my_design = problem.random_design()\n",
    "my_design"
   ]
  },
  {
   "cell_type": "markdown",
   "id": "ce3a65d7-df96-4f23-be89-450e42ad7a11",
   "metadata": {},
   "source": [
    "You can also render designs to see what they look like."
   ]
  },
  {
   "cell_type": "code",
   "execution_count": 27,
   "id": "e7987839-6a4a-4988-9080-768bfc46a3b5",
   "metadata": {},
   "outputs": [
    {
     "data": {
      "text/plain": [
       "(<Figure size 640x480 with 1 Axes>, <Axes: >)"
      ]
     },
     "execution_count": 27,
     "metadata": {},
     "output_type": "execute_result"
    },
    {
     "data": {
      "image/png": "[encoded data removed]",
      "text/plain": [
       "<Figure size 640x480 with 1 Axes>"
      ]
     },
     "metadata": {},
     "output_type": "display_data"
    }
   ],
   "source": [
    "problem.render(my_design)"
   ]
  },
  {
   "cell_type": "markdown",
   "id": "652febe8-a36a-47a8-b774-dd8878ba892c",
   "metadata": {},
   "source": [
    "Finally, you can:\n",
    "- Simulate a design to get its objective values with `objs = problem.simulate(my_design)`\n",
    "- Optimize a given design with `optimal_design, objs = problem.optimize(my_design)`\n",
    "\n",
    "Note that this is not trivially doable here since the simulation requires launching a container 😅."
   ]
  }
 ],
 "metadata": {
  "kernelspec": {
   "display_name": "Python 3 (ipykernel)",
   "language": "python",
   "name": "python3"
  },
  "language_info": {
   "codemirror_mode": {
    "name": "ipython",
    "version": 3
   },
   "file_extension": ".py",
   "mimetype": "text/x-python",
   "name": "python",
   "nbconvert_exporter": "python",
   "pygments_lexer": "ipython3",
   "version": "3.12.6"
  }
 },
 "nbformat": 4,
 "nbformat_minor": 5
}
