{
 "cells": [
  {
   "cell_type": "markdown",
   "id": "b96ee2a7-dc47-4661-9c5b-aa725d2b6fe9",
   "metadata": {},
   "source": [
    "# EngiTuto\n",
    "\n",
    "This is a basic tutorial showing how to use EngiBench and interact with problems.\n",
    "\n",
    "Author: Florian Felten <ffelten@mavt.ethz.ch>"
   ]
  },
  {
   "cell_type": "code",
   "execution_count": 1,
   "id": "fec5d22a-ae5f-4b86-92bd-fd9591b672e5",
   "metadata": {},
   "outputs": [
    {
     "name": "stdout",
     "output_type": "stream",
     "text": [
      "Obtaining file:///Users/ffelte/Documents/EngiBench\n",
      "  Installing build dependencies ... \u001b[?25ldone\n",
      "\u001b[?25h  Checking if build backend supports build_editable ... \u001b[?25ldone\n",
      "\u001b[?25h  Getting requirements to build editable ... \u001b[?25ldone\n",
      "\u001b[?25h  Preparing editable metadata (pyproject.toml) ... \u001b[?25ldone\n",
      "\u001b[?25hRequirement already satisfied: numpy<=2.0 in ./venv/lib/python3.12/site-packages (from engibench==0.0.1) (1.26.4)\n",
      "Requirement already satisfied: gymnasium>=1.0.0 in ./venv/lib/python3.12/site-packages (from engibench==0.0.1) (1.0.0)\n",
      "Requirement already satisfied: datasets==3.1.0 in ./venv/lib/python3.12/site-packages (from datasets[vision]==3.1.0->engibench==0.0.1) (3.1.0)\n",
      "Requirement already satisfied: pandas>=2.2.3 in ./venv/lib/python3.12/site-packages (from engibench==0.0.1) (2.2.3)\n",
      "Requirement already satisfied: matplotlib>=3.9.3 in ./venv/lib/python3.12/site-packages (from engibench==0.0.1) (3.9.3)\n",
      "Requirement already satisfied: filelock in ./venv/lib/python3.12/site-packages (from datasets==3.1.0->datasets[vision]==3.1.0->engibench==0.0.1) (3.16.1)\n",
      "Requirement already satisfied: pyarrow>=15.0.0 in ./venv/lib/python3.12/site-packages (from datasets==3.1.0->datasets[vision]==3.1.0->engibench==0.0.1) (17.0.0)\n",
      "Requirement already satisfied: dill<0.3.9,>=0.3.0 in ./venv/lib/python3.12/site-packages (from datasets==3.1.0->datasets[vision]==3.1.0->engibench==0.0.1) (0.3.8)\n",
      "Requirement already satisfied: requests>=2.32.2 in ./venv/lib/python3.12/site-packages (from datasets==3.1.0->datasets[vision]==3.1.0->engibench==0.0.1) (2.32.3)\n",
      "Requirement already satisfied: tqdm>=4.66.3 in ./venv/lib/python3.12/site-packages (from datasets==3.1.0->datasets[vision]==3.1.0->engibench==0.0.1) (4.66.5)\n",
      "Requirement already satisfied: xxhash in ./venv/lib/python3.12/site-packages (from datasets==3.1.0->datasets[vision]==3.1.0->engibench==0.0.1) (3.5.0)\n",
      "Requirement already satisfied: multiprocess<0.70.17 in ./venv/lib/python3.12/site-packages (from datasets==3.1.0->datasets[vision]==3.1.0->engibench==0.0.1) (0.70.16)\n",
      "Requirement already satisfied: fsspec<=2024.9.0,>=2023.1.0 in ./venv/lib/python3.12/site-packages (from fsspec[http]<=2024.9.0,>=2023.1.0->datasets==3.1.0->datasets[vision]==3.1.0->engibench==0.0.1) (2024.6.1)\n",
      "Requirement already satisfied: aiohttp in ./venv/lib/python3.12/site-packages (from datasets==3.1.0->datasets[vision]==3.1.0->engibench==0.0.1) (3.10.5)\n",
      "Requirement already satisfied: huggingface-hub>=0.23.0 in ./venv/lib/python3.12/site-packages (from datasets==3.1.0->datasets[vision]==3.1.0->engibench==0.0.1) (0.25.0)\n",
      "Requirement already satisfied: packaging in ./venv/lib/python3.12/site-packages (from datasets==3.1.0->datasets[vision]==3.1.0->engibench==0.0.1) (24.1)\n",
      "Requirement already satisfied: pyyaml>=5.1 in ./venv/lib/python3.12/site-packages (from datasets==3.1.0->datasets[vision]==3.1.0->engibench==0.0.1) (6.0.2)\n",
      "Requirement already satisfied: Pillow>=9.4.0 in ./venv/lib/python3.12/site-packages (from datasets[vision]==3.1.0->engibench==0.0.1) (10.4.0)\n",
      "Requirement already satisfied: cloudpickle>=1.2.0 in ./venv/lib/python3.12/site-packages (from gymnasium>=1.0.0->engibench==0.0.1) (3.0.0)\n",
      "Requirement already satisfied: typing-extensions>=4.3.0 in ./venv/lib/python3.12/site-packages (from gymnasium>=1.0.0->engibench==0.0.1) (4.12.2)\n",
      "Requirement already satisfied: farama-notifications>=0.0.1 in ./venv/lib/python3.12/site-packages (from gymnasium>=1.0.0->engibench==0.0.1) (0.0.4)\n",
      "Requirement already satisfied: contourpy>=1.0.1 in ./venv/lib/python3.12/site-packages (from matplotlib>=3.9.3->engibench==0.0.1) (1.3.1)\n",
      "Requirement already satisfied: cycler>=0.10 in ./venv/lib/python3.12/site-packages (from matplotlib>=3.9.3->engibench==0.0.1) (0.12.1)\n",
      "Requirement already satisfied: fonttools>=4.22.0 in ./venv/lib/python3.12/site-packages (from matplotlib>=3.9.3->engibench==0.0.1) (4.55.1)\n",
      "Requirement already satisfied: kiwisolver>=1.3.1 in ./venv/lib/python3.12/site-packages (from matplotlib>=3.9.3->engibench==0.0.1) (1.4.7)\n",
      "Requirement already satisfied: pyparsing>=2.3.1 in ./venv/lib/python3.12/site-packages (from matplotlib>=3.9.3->engibench==0.0.1) (3.2.0)\n",
      "Requirement already satisfied: python-dateutil>=2.7 in ./venv/lib/python3.12/site-packages (from matplotlib>=3.9.3->engibench==0.0.1) (2.9.0.post0)\n",
      "Requirement already satisfied: pytz>=2020.1 in ./venv/lib/python3.12/site-packages (from pandas>=2.2.3->engibench==0.0.1) (2024.2)\n",
      "Requirement already satisfied: tzdata>=2022.7 in ./venv/lib/python3.12/site-packages (from pandas>=2.2.3->engibench==0.0.1) (2024.1)\n",
      "Collecting pyoptsparse@ git+https://github.com/mdolab/pyoptsparse#egg=7e862db49bbc8bde2b49dee686cce68c8d2ab9f0 (from engibench==0.0.1)\n",
      "  Cloning https://github.com/mdolab/pyoptsparse to /private/var/folders/fw/69hmbxm946l1xycg8w29nw0800l9gd/T/pip-install-06yma624/pyoptsparse_b37e0bda2a4d4bbcad4ddb139e6ebed4\n",
      "  Running command git clone --filter=blob:none --quiet https://github.com/mdolab/pyoptsparse /private/var/folders/fw/69hmbxm946l1xycg8w29nw0800l9gd/T/pip-install-06yma624/pyoptsparse_b37e0bda2a4d4bbcad4ddb139e6ebed4\n",
      "  Resolved https://github.com/mdolab/pyoptsparse to commit f66e9fbd6712dbb941794698cf87fc053c8a7986\n",
      "  Installing build dependencies ... \u001b[?25done\n",
      "\u001b[?25h  Getting requirements to build wheel ... \u001b[?25ldone\n",
      "\u001b[?25h  Preparing metadata (pyproject.toml) ... \u001b[?25ldone\n",
      "\u001b[?25hRequirement already satisfied: cvxopt==1.3.2 in ./venv/lib/python3.12/site-packages (from engibench==0.0.1) (1.3.2)\n",
      "Requirement already satisfied: seaborn in ./venv/lib/python3.12/site-packages (from engibench==0.0.1) (0.13.2)\n",
      "Requirement already satisfied: aiohappyeyeballs>=2.3.0 in ./venv/lib/python3.12/site-packages (from aiohttp->datasets==3.1.0->datasets[vision]==3.1.0->engibench==0.0.1) (2.4.0)\n",
      "Requirement already satisfied: aiosignal>=1.1.2 in ./venv/lib/python3.12/site-packages (from aiohttp->datasets==3.1.0->datasets[vision]==3.1.0->engibench==0.0.1) (1.3.1)\n",
      "Requirement already satisfied: attrs>=17.3.0 in ./venv/lib/python3.12/site-packages (from aiohttp->datasets==3.1.0->datasets[vision]==3.1.0->engibench==0.0.1) (24.2.0)\n",
      "Requirement already satisfied: frozenlist>=1.1.1 in ./venv/lib/python3.12/site-packages (from aiohttp->datasets==3.1.0->datasets[vision]==3.1.0->engibench==0.0.1) (1.4.1)\n",
      "Requirement already satisfied: multidict<7.0,>=4.5 in ./venv/lib/python3.12/site-packages (from aiohttp->datasets==3.1.0->datasets[vision]==3.1.0->engibench==0.0.1) (6.1.0)\n",
      "Requirement already satisfied: yarl<2.0,>=1.0 in ./venv/lib/python3.12/site-packages (from aiohttp->datasets==3.1.0->datasets[vision]==3.1.0->engibench==0.0.1) (1.11.1)\n",
      "Requirement already satisfied: six>=1.5 in ./venv/lib/python3.12/site-packages (from python-dateutil>=2.7->matplotlib>=3.9.3->engibench==0.0.1) (1.16.0)\n",
      "Requirement already satisfied: charset-normalizer<4,>=2 in ./venv/lib/python3.12/site-packages (from requests>=2.32.2->datasets==3.1.0->datasets[vision]==3.1.0->engibench==0.0.1) (3.3.2)\n",
      "Requirement already satisfied: idna<4,>=2.5 in ./venv/lib/python3.12/site-packages (from requests>=2.32.2->datasets==3.1.0->datasets[vision]==3.1.0->engibench==0.0.1) (3.10)\n",
      "Requirement already satisfied: urllib3<3,>=1.21.1 in ./venv/lib/python3.12/site-packages (from requests>=2.32.2->datasets==3.1.0->datasets[vision]==3.1.0->engibench==0.0.1) (2.2.3)\n",
      "Requirement already satisfied: certifi>=2017.4.17 in ./venv/lib/python3.12/site-packages (from requests>=2.32.2->datasets==3.1.0->datasets[vision]==3.1.0->engibench==0.0.1) (2024.8.30)\n",
      "Requirement already satisfied: sqlitedict>=1.6 in ./venv/lib/python3.12/site-packages (from pyoptsparse@ git+https://github.com/mdolab/pyoptsparse#egg=7e862db49bbc8bde2b49dee686cce68c8d2ab9f0->engibench==0.0.1) (2.1.0)\n",
      "Requirement already satisfied: scipy>=1.7 in ./venv/lib/python3.12/site-packages (from pyoptsparse@ git+https://github.com/mdolab/pyoptsparse#egg=7e862db49bbc8bde2b49dee686cce68c8d2ab9f0->engibench==0.0.1) (1.14.1)\n",
      "Requirement already satisfied: mdolab-baseclasses>=1.3.1 in ./venv/lib/python3.12/site-packages (from pyoptsparse@ git+https://github.com/mdolab/pyoptsparse#egg=7e862db49bbc8bde2b49dee686cce68c8d2ab9f0->engibench==0.0.1) (1.8.0)\n",
      "Building wheels for collected packages: engibench\n",
      "  Building editable for engibench (pyproject.toml) ... \u001b[?25ldone\n",
      "\u001b[?25h  Created wheel for engibench: filename=engibench-0.0.1-0.editable-py3-none-any.whl size=6622 sha256=ff0f75b09a94bed8fdba99404d5864fb80ef9874b900cc8011232a2295ce203b\n",
      "  Stored in directory: /private/var/folders/fw/69hmbxm946l1xycg8w29nw0800l9gd/T/pip-ephem-wheel-cache-a8ugqr4w/wheels/75/05/5c/548453ac7957e7ac5fe47d58428ec24bb290d220eabe5abaa8\n",
      "Successfully built engibench\n",
      "Installing collected packages: engibench\n",
      "  Attempting uninstall: engibench\n",
      "    Found existing installation: engibench 0.0.1\n",
      "    Uninstalling engibench-0.0.1:\n",
      "      Successfully uninstalled engibench-0.0.1\n",
      "Successfully installed engibench-0.0.1\n",
      "\n",
      "\u001b[1m[\u001b[0m\u001b[34;49mnotice\u001b[0m\u001b[1;39;49m]\u001b[0m\u001b[39;49m A new release of pip is available: \u001b[0m\u001b[31;49m24.2\u001b[0m\u001b[39;49m -> \u001b[0m\u001b[32;49m25.0.1\u001b[0m\n",
      "\u001b[1m[\u001b[0m\u001b[34;49mnotice\u001b[0m\u001b[1;39;49m]\u001b[0m\u001b[39;49m To update, run: \u001b[0m\u001b[32;49mpip install --upgrade pip\u001b[0m\n"
     ]
    }
   ],
   "source": [
    "!pip install -e \".[all]\""
   ]
  },
  {
   "cell_type": "markdown",
   "id": "23110d90-27af-4110-aecf-15c70a6bf312",
   "metadata": {},
   "source": [
    "## Step 1: Instantiate a Problem\n",
    "\n",
    "Let us see the 2D Airfoil problem"
   ]
  },
  {
   "cell_type": "code",
   "execution_count": 2,
   "id": "95eb27a2-25c1-49db-8494-bda712d135db",
   "metadata": {},
   "outputs": [],
   "source": [
    "from engibench.problems.beams2d.v0 import Beams2D"
   ]
  },
  {
   "cell_type": "code",
   "execution_count": 3,
   "id": "44ed0ebe-b218-44ee-819b-7d211050b8c9",
   "metadata": {},
   "outputs": [],
   "source": [
    "problem = Beams2D()\n",
    "problem.reset(99)"
   ]
  },
  {
   "cell_type": "markdown",
   "id": "76f4aa2b-c07b-4e57-84b2-25c249683951",
   "metadata": {},
   "source": [
    "## Step 2: Inspect the Problem"
   ]
  },
  {
   "cell_type": "markdown",
   "id": "b90afd04-2c81-4af7-97e6-37cc43ac2faf",
   "metadata": {},
   "source": [
    "### 2.1: Representation, Objectives, Boundary Conditions\n",
    "The output just below means our beam is represented by 5000 pixels in `[0, 1]`. They are later reshaped as `(100, 50)`."
   ]
  },
  {
   "cell_type": "code",
   "execution_count": 4,
   "id": "79bc79cd-9301-422d-a4c0-d388a3444616",
   "metadata": {},
   "outputs": [
    {
     "data": {
      "text/plain": [
       "Box(0.0, 1.0, (5000,), float32)"
      ]
     },
     "execution_count": 4,
     "metadata": {},
     "output_type": "execute_result"
    }
   ],
   "source": [
    "problem.design_space"
   ]
  },
  {
   "cell_type": "code",
   "execution_count": 5,
   "id": "5f264428-56d9-44e3-b242-2a4e5e355b68",
   "metadata": {},
   "outputs": [
    {
     "data": {
      "text/plain": [
       "(('c', 'minimize'),)"
      ]
     },
     "execution_count": 5,
     "metadata": {},
     "output_type": "execute_result"
    }
   ],
   "source": [
    "problem.possible_objectives"
   ]
  },
  {
   "cell_type": "code",
   "execution_count": 6,
   "id": "d50ffe26-0275-480f-82df-f05e6eac7ced",
   "metadata": {},
   "outputs": [
    {
     "data": {
      "text/plain": [
       "frozenset({('ft', 1),\n",
       "           ('max_iter', 100),\n",
       "           ('nelx', 100),\n",
       "           ('nely', 50),\n",
       "           ('overhang_constraint', False),\n",
       "           ('penal', 3.0),\n",
       "           ('rmin', 2.0),\n",
       "           ('volfrac', 0.35)})"
      ]
     },
     "execution_count": 6,
     "metadata": {},
     "output_type": "execute_result"
    }
   ],
   "source": [
    "problem.boundary_conditions"
   ]
  },
  {
   "cell_type": "markdown",
   "id": "90ae1749-f824-4b81-88e8-7232ab30bd80",
   "metadata": {},
   "source": [
    "### 2.2 Data\n",
    "We can directly access [the dataset linked to the problem](https://huggingface.co/datasets/IDEALLab/beams_2d_v0) doing the following:"
   ]
  },
  {
   "cell_type": "code",
   "execution_count": 7,
   "id": "6e5daaff-8720-474d-95cf-d64d4086d1e4",
   "metadata": {},
   "outputs": [
    {
     "data": {
      "text/plain": [
       "DatasetDict({\n",
       "    train: Dataset({\n",
       "        features: ['xPrint', 'nelx', 'nely', 'volfrac', 'penal', 'rmin', 'ft', 'max_iter', 'overhang_constraint', 'compliance'],\n",
       "        num_rows: 950\n",
       "    })\n",
       "    val: Dataset({\n",
       "        features: ['xPrint', 'nelx', 'nely', 'volfrac', 'penal', 'rmin', 'ft', 'max_iter', 'overhang_constraint', 'compliance'],\n",
       "        num_rows: 178\n",
       "    })\n",
       "    test: Dataset({\n",
       "        features: ['xPrint', 'nelx', 'nely', 'volfrac', 'penal', 'rmin', 'ft', 'max_iter', 'overhang_constraint', 'compliance'],\n",
       "        num_rows: 60\n",
       "    })\n",
       "})"
      ]
     },
     "execution_count": 7,
     "metadata": {},
     "output_type": "execute_result"
    }
   ],
   "source": [
    "problem.dataset"
   ]
  },
  {
   "cell_type": "markdown",
   "id": "43a3e506-073e-473f-a835-0396258e62ee",
   "metadata": {},
   "source": [
    "## Step 3: Creating a Design and Launching the Simulator\n",
    "While you usually would generate a design based on a generative or surrogate mode, we here show how to play with a rather random one."
   ]
  },
  {
   "cell_type": "code",
   "execution_count": 8,
   "id": "b74db0b1-e661-4841-8b04-05aff15e4635",
   "metadata": {},
   "outputs": [
    {
     "data": {
      "text/plain": [
       "array([0.77761949, 0.3267569 , 0.32889126, ..., 0.95305609, 1.00250589,\n",
       "       1.        ])"
      ]
     },
     "execution_count": 8,
     "metadata": {},
     "output_type": "execute_result"
    }
   ],
   "source": [
    "my_design, idx = problem.random_design()\n",
    "my_design"
   ]
  },
  {
   "cell_type": "markdown",
   "id": "ce3a65d7-df96-4f23-be89-450e42ad7a11",
   "metadata": {},
   "source": [
    "You can also render designs to see what they look like."
   ]
  },
  {
   "cell_type": "code",
   "execution_count": 9,
   "id": "e7987839-6a4a-4988-9080-768bfc46a3b5",
   "metadata": {},
   "outputs": [
    {
     "ename": "ValueError",
     "evalue": "cannot reshape array of size 1250 into shape (100,50)",
     "output_type": "error",
     "traceback": [
      "\u001b[0;31m---------------------------------------------------------------------------\u001b[0m",
      "\u001b[0;31mValueError\u001b[0m                                Traceback (most recent call last)",
      "Cell \u001b[0;32mIn[9], line 1\u001b[0m\n\u001b[0;32m----> 1\u001b[0m \u001b[43mproblem\u001b[49m\u001b[38;5;241;43m.\u001b[39;49m\u001b[43mrender\u001b[49m\u001b[43m(\u001b[49m\u001b[43mmy_design\u001b[49m\u001b[43m)\u001b[49m\n",
      "File \u001b[0;32m~/Documents/EngiBench/engibench/problems/beams2d/v0.py:234\u001b[0m, in \u001b[0;36mBeams2D.render\u001b[0;34m(self, design, nelx, nely, open_window)\u001b[0m\n\u001b[1;32m    231\u001b[0m \u001b[38;5;28;01mimport\u001b[39;00m \u001b[38;5;21;01mseaborn\u001b[39;00m \u001b[38;5;28;01mas\u001b[39;00m \u001b[38;5;21;01msns\u001b[39;00m\n\u001b[1;32m    233\u001b[0m fig, ax \u001b[38;5;241m=\u001b[39m plt\u001b[38;5;241m.\u001b[39msubplots(figsize\u001b[38;5;241m=\u001b[39m(\u001b[38;5;241m8\u001b[39m, \u001b[38;5;241m4\u001b[39m))\n\u001b[0;32m--> 234\u001b[0m sns\u001b[38;5;241m.\u001b[39mheatmap(\u001b[43mdesign_to_image\u001b[49m\u001b[43m(\u001b[49m\u001b[43mdesign\u001b[49m\u001b[43m,\u001b[49m\u001b[43m \u001b[49m\u001b[43mnelx\u001b[49m\u001b[43m,\u001b[49m\u001b[43m \u001b[49m\u001b[43mnely\u001b[49m\u001b[43m)\u001b[49m, cmap\u001b[38;5;241m=\u001b[39m\u001b[38;5;124m\"\u001b[39m\u001b[38;5;124mcoolwarm\u001b[39m\u001b[38;5;124m\"\u001b[39m, ax\u001b[38;5;241m=\u001b[39max, vmin\u001b[38;5;241m=\u001b[39m\u001b[38;5;241m0\u001b[39m, vmax\u001b[38;5;241m=\u001b[39m\u001b[38;5;241m1\u001b[39m)\n\u001b[1;32m    236\u001b[0m \u001b[38;5;28;01mif\u001b[39;00m open_window:\n\u001b[1;32m    237\u001b[0m     plt\u001b[38;5;241m.\u001b[39mshow()\n",
      "File \u001b[0;32m~/Documents/EngiBench/engibench/problems/beams2d/backend.py:135\u001b[0m, in \u001b[0;36mdesign_to_image\u001b[0;34m(x, nelx, nely)\u001b[0m\n\u001b[1;32m    124\u001b[0m \u001b[38;5;28;01mdef\u001b[39;00m \u001b[38;5;21mdesign_to_image\u001b[39m(x: npt\u001b[38;5;241m.\u001b[39mNDArray, nelx: \u001b[38;5;28mint\u001b[39m \u001b[38;5;241m=\u001b[39m \u001b[38;5;241m100\u001b[39m, nely: \u001b[38;5;28mint\u001b[39m \u001b[38;5;241m=\u001b[39m \u001b[38;5;241m50\u001b[39m) \u001b[38;5;241m-\u001b[39m\u001b[38;5;241m>\u001b[39m npt\u001b[38;5;241m.\u001b[39mNDArray:\n\u001b[1;32m    125\u001b[0m \u001b[38;5;250m    \u001b[39m\u001b[38;5;124mr\u001b[39m\u001b[38;5;124;03m\"\"\"Reshape the 1D vector(s) into 2D image(s).\u001b[39;00m\n\u001b[1;32m    126\u001b[0m \n\u001b[1;32m    127\u001b[0m \u001b[38;5;124;03m    Args:\u001b[39;00m\n\u001b[0;32m   (...)\u001b[0m\n\u001b[1;32m    133\u001b[0m \u001b[38;5;124;03m        npt.NDArray: The transformed image(s).\u001b[39;00m\n\u001b[1;32m    134\u001b[0m \u001b[38;5;124;03m    \"\"\"\u001b[39;00m\n\u001b[0;32m--> 135\u001b[0m     \u001b[38;5;28;01mreturn\u001b[39;00m np\u001b[38;5;241m.\u001b[39mswapaxes(\u001b[43mx\u001b[49m\u001b[38;5;241;43m.\u001b[39;49m\u001b[43mreshape\u001b[49m\u001b[43m(\u001b[49m\u001b[38;5;241;43m*\u001b[39;49m\u001b[43mx\u001b[49m\u001b[38;5;241;43m.\u001b[39;49m\u001b[43mshape\u001b[49m\u001b[43m[\u001b[49m\u001b[43m:\u001b[49m\u001b[38;5;241;43m-\u001b[39;49m\u001b[38;5;241;43m1\u001b[39;49m\u001b[43m]\u001b[49m\u001b[43m,\u001b[49m\u001b[43m \u001b[49m\u001b[43mnelx\u001b[49m\u001b[43m,\u001b[49m\u001b[43m \u001b[49m\u001b[43mnely\u001b[49m\u001b[43m)\u001b[49m, \u001b[38;5;241m-\u001b[39m\u001b[38;5;241m2\u001b[39m, \u001b[38;5;241m-\u001b[39m\u001b[38;5;241m1\u001b[39m)\n",
      "\u001b[0;31mValueError\u001b[0m: cannot reshape array of size 1250 into shape (100,50)"
     ]
    },
    {
     "data": {
      "image/png": "[encoded data removed]",
      "text/plain": [
       "<Figure size 800x400 with 1 Axes>"
      ]
     },
     "metadata": {},
     "output_type": "display_data"
    }
   ],
   "source": [
    "problem.render(my_design)"
   ]
  },
  {
   "cell_type": "markdown",
   "id": "652febe8-a36a-47a8-b774-dd8878ba892c",
   "metadata": {},
   "source": [
    "Finally, you can:\n",
    "- Simulate a design to get its objective values with `objs = problem.simulate(my_design)`\n",
    "- Optimize a given design with `optimal_design, objs = problem.optimize(my_design)`"
   ]
  },
  {
   "cell_type": "code",
   "execution_count": null,
   "id": "2152a7f8-0270-42a9-9f1a-110bd9470d54",
   "metadata": {},
   "outputs": [],
   "source": [
    "problem.simulate(my_design)"
   ]
  },
  {
   "cell_type": "code",
   "execution_count": null,
   "id": "b7562ff7-1cb1-4538-b726-f2df8e18d980",
   "metadata": {},
   "outputs": [],
   "source": [
    "opt_design, opt_history = problem.optimize(my_design)\n",
    "opt_history[-1]"
   ]
  },
  {
   "cell_type": "markdown",
   "id": "9c9161ef-34b6-44f1-ba15-65669ef33ac8",
   "metadata": {},
   "source": [
    "Now let's see how different is the optimal design from our random design above."
   ]
  },
  {
   "cell_type": "code",
   "execution_count": null,
   "id": "105126c1-831c-47ff-a787-e62e4b56a33d",
   "metadata": {},
   "outputs": [],
   "source": [
    "problem.render(opt_design)"
   ]
  }
 ],
 "metadata": {
  "kernelspec": {
   "display_name": "Python 3 (ipykernel)",
   "language": "python",
   "name": "python3"
  },
  "language_info": {
   "codemirror_mode": {
    "name": "ipython",
    "version": 3
   },
   "file_extension": ".py",
   "mimetype": "text/x-python",
   "name": "python",
   "nbconvert_exporter": "python",
   "pygments_lexer": "ipython3",
   "version": "3.12.6"
  }
 },
 "nbformat": 4,
 "nbformat_minor": 5
}
