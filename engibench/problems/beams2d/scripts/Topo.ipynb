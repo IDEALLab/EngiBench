{
 "cells": [
  {
   "cell_type": "code",
   "execution_count": 3,
   "id": "8bda7dd2",
   "metadata": {},
   "outputs": [
    {
     "name": "stdout",
     "output_type": "stream",
     "text": [
      "Actual VF: 0.35000366384951503\n",
      "Compliance: 127.64329458719723\n"
     ]
    }
   ],
   "source": [
    "# BASELINE for vf = 0.35 (no overhang constraint)\n",
    "\n",
    "import numpy as np\n",
    "import topopt_learn\n",
    "\n",
    "# Simulator input shape: (5000,)\n",
    "# Simulator output: single compliance value (float)\n",
    "xPrint, dc, dv, c = topopt_learn.main(100, 50, 0.35, 3, 2, 1, max_iter=100, overhang_constraint=False, display=False)\n",
    "print(\"Actual VF:\", xPrint.sum() / np.prod(xPrint.shape))\n",
    "print(\"Compliance:\", c)"
   ]
  },
  {
   "cell_type": "code",
   "execution_count": 3,
   "id": "325a374f",
   "metadata": {},
   "outputs": [
    {
     "name": "stdout",
     "output_type": "stream",
     "text": [
      "Actual VF: 0.3500154526158228\n",
      "Compliance: 166.176342964195\n"
     ]
    }
   ],
   "source": [
    "# MATLAB implementation of overhang filter (min-max approach)\n",
    "import numpy as np\n",
    "import topopt_learn\n",
    "\n",
    "xPrint, dc, dv, c = topopt_learn.main(100, 50, 0.35, 3, 2, 1, max_iter=100, overhang_constraint=True, display=False)\n",
    "print(\"Actual VF:\", xPrint.sum() / np.prod(xPrint.shape))\n",
    "print(\"Compliance:\", c)"
   ]
  },
  {
   "cell_type": "markdown",
   "id": "789420ab",
   "metadata": {},
   "source": [
    "# Todo: See the topo-88 paper for implementation details of additional filters\n",
    "\n",
    "- Potential conferences: mostly just AIAA is possible for these coming months\n",
    "- NeurIPS workshop? https://nips.cc/\n",
    "- Submit to a journal instead? "
   ]
  }
 ],
 "metadata": {
  "kernelspec": {
   "display_name": "base",
   "language": "python",
   "name": "python3"
  },
  "language_info": {
   "codemirror_mode": {
    "name": "ipython",
    "version": 3
   },
   "file_extension": ".py",
   "mimetype": "text/x-python",
   "name": "python",
   "nbconvert_exporter": "python",
   "pygments_lexer": "ipython3",
   "version": "3.11.8"
  }
 },
 "nbformat": 4,
 "nbformat_minor": 5
}
