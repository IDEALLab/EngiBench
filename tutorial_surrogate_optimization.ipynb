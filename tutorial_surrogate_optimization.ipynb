{
 "cells": [
  {
   "cell_type": "markdown",
   "id": "b96ee2a7-dc47-4661-9c5b-aa725d2b6fe9",
   "metadata": {},
   "source": [
    "# Demonstration of surrogate model capabilities\n",
    "\n",
    "This is a simple jupyter notebook to demonstrate the autogluon surrogate model capability.\n",
    "\n",
    "Author: Soheyl Massoudi <smassoudi@ethz.ch>"
   ]
  },
  {
   "cell_type": "markdown",
   "id": "0e8c7a2c",
   "metadata": {},
   "source": [
    "# Step 1: Setup"
   ]
  },
  {
   "cell_type": "code",
   "execution_count": 1,
   "id": "96f8295e",
   "metadata": {},
   "outputs": [],
   "source": [
    "import numpy as np\n",
    "import torch\n",
    "import torch.nn as nn\n",
    "import torch.optim as optim\n",
    "import matplotlib.pyplot as plt\n",
    "\n",
    "from sklearn.model_selection import train_test_split\n",
    "from sklearn.preprocessing import StandardScaler\n"
   ]
  },
  {
   "cell_type": "markdown",
   "id": "e2001e45",
   "metadata": {},
   "source": [
    "# Step 2: Load and Convert Parquet Dataset"
   ]
  },
  {
   "cell_type": "code",
   "execution_count": 26,
   "id": "7b2c037a",
   "metadata": {},
   "outputs": [
    {
     "name": "stdout",
     "output_type": "stream",
     "text": [
      "Dataset saved to ./data/airfoil_data.csv\n"
     ]
    }
   ],
   "source": [
    "from datasets import load_dataset\n",
    "import pandas as pd\n",
    "import os\n",
    "\n",
    "# Specify the directory and file path\n",
    "csv_directory = \"./data\"\n",
    "csv_file_name = \"airfoil_data.csv\"\n",
    "csv_path = os.path.join(csv_directory, csv_file_name)\n",
    "absolute_csv_path = os.path.abspath(csv_path)\n",
    "\n",
    "# Create the directory if it doesn't exist\n",
    "os.makedirs(csv_directory, exist_ok=True)\n",
    "\n",
    "# Load dataset from Hugging Face\n",
    "dataset = load_dataset(\"IDEALLab/airfoil_2d_v0\", split=\"train\")\n",
    "\n",
    "# Convert to pandas DataFrame\n",
    "df = pd.DataFrame(dataset)\n",
    "\n",
    "# Save to CSV\n",
    "df.to_csv(absolute_csv_path, index=False)\n",
    "\n",
    "print(f\"Dataset saved to {csv_path}\")"
   ]
  },
  {
   "cell_type": "code",
   "execution_count": 27,
   "id": "c2f88b6f",
   "metadata": {},
   "outputs": [
    {
     "data": {
      "text/plain": [
       "['initial',\n",
       " 'optimized',\n",
       " 'mach',\n",
       " 'reynolds',\n",
       " 'cl_target',\n",
       " 'area_target',\n",
       " 'alpha',\n",
       " 'area_initial',\n",
       " 'cd_val',\n",
       " 'cl_val',\n",
       " 'cl_con',\n",
       " 'area_con']"
      ]
     },
     "execution_count": 27,
     "metadata": {},
     "output_type": "execute_result"
    }
   ],
   "source": [
    "dataset.column_names"
   ]
  },
  {
   "cell_type": "code",
   "execution_count": 28,
   "id": "cc7fcff9",
   "metadata": {},
   "outputs": [
    {
     "data": {
      "text/plain": [
       "list"
      ]
     },
     "execution_count": 28,
     "metadata": {},
     "output_type": "execute_result"
    }
   ],
   "source": [
    "type(dataset['alpha'])"
   ]
  },
  {
   "cell_type": "code",
   "execution_count": 29,
   "id": "84491ff9",
   "metadata": {},
   "outputs": [
    {
     "data": {
      "text/plain": [
       "[1.0000194365938981,\n",
       " 0.9897566593945221,\n",
       " 0.9794544269870155,\n",
       " 0.9691149136515305,\n",
       " 0.9587402901643374,\n",
       " 0.9483327419340516,\n",
       " 0.9378945048481954,\n",
       " 0.9274277968572291,\n",
       " 0.9169348081262216,\n",
       " 0.9064178020370062,\n",
       " 0.8958790284346422,\n",
       " 0.8853207187330372,\n",
       " 0.8747448930482233,\n",
       " 0.8641523083004454,\n",
       " 0.8535437159737151,\n",
       " 0.8429198967977035,\n",
       " 0.8322817488654743,\n",
       " 0.8216301200165563,\n",
       " 0.8109658171290856,\n",
       " 0.8002897285258235,\n",
       " 0.7896027290487984,\n",
       " 0.7789056461533759,\n",
       " 0.7681993584263407,\n",
       " 0.7574847603720507,\n",
       " 0.7467626918304485,\n",
       " 0.7360340279427758,\n",
       " 0.7253037272659675,\n",
       " 0.7145732743519277,\n",
       " 0.7038473442473052,\n",
       " 0.693126502752131,\n",
       " 0.6824101435303259,\n",
       " 0.6716976408464019,\n",
       " 0.6609883248618159,\n",
       " 0.6502815861483213,\n",
       " 0.639576822934429,\n",
       " 0.6288733614389102,\n",
       " 0.6181705789840656,\n",
       " 0.6074655520675161,\n",
       " 0.5967516390819786,\n",
       " 0.5860288162351749,\n",
       " 0.5752975145222803,\n",
       " 0.5645582221285628,\n",
       " 0.5538114139478776,\n",
       " 0.5430575344024076,\n",
       " 0.5322970595788166,\n",
       " 0.5215304770239737,\n",
       " 0.5107583657552618,\n",
       " 0.49998899952531595,\n",
       " 0.48922838434100185,\n",
       " 0.4784765533366514,\n",
       " 0.4677335678615218,\n",
       " 0.45699934751237103,\n",
       " 0.4462733015736579,\n",
       " 0.4355373234767379,\n",
       " 0.4247826022819237,\n",
       " 0.41400930053745666,\n",
       " 0.40321743727109993,\n",
       " 0.39241068759564895,\n",
       " 0.381612066370135,\n",
       " 0.37080496447631633,\n",
       " 0.3600064410541813,\n",
       " 0.34922406851115434,\n",
       " 0.33845788337211447,\n",
       " 0.3277078356554862,\n",
       " 0.3169698841651151,\n",
       " 0.3062390461963021,\n",
       " 0.2955166628909653,\n",
       " 0.28480410301254583,\n",
       " 0.27410278009006916,\n",
       " 0.26341204683290753,\n",
       " 0.25272635368206947,\n",
       " 0.24204543660455097,\n",
       " 0.23136953646457306,\n",
       " 0.22069888051414568,\n",
       " 0.21003374815071363,\n",
       " 0.19937439529743484,\n",
       " 0.18872105828155553,\n",
       " 0.17807401105266413,\n",
       " 0.1674384042435018,\n",
       " 0.1568354841489629,\n",
       " 0.14627346816198103,\n",
       " 0.1357582215448607,\n",
       " 0.12529567044554485,\n",
       " 0.11489170336632272,\n",
       " 0.10455021525169125,\n",
       " 0.09426863823556426,\n",
       " 0.08405208228345475,\n",
       " 0.07390691353511289,\n",
       " 0.06383946888448681,\n",
       " 0.05385641687455061,\n",
       " 0.04402472145292385,\n",
       " 0.03444850734177523,\n",
       " 0.02519366900396886,\n",
       " 0.01641768092335681,\n",
       " 0.008394408450421985,\n",
       " 0.0018741554333653653,\n",
       " 2.2970567507988958e-05,\n",
       " 0.0010121165398447852,\n",
       " 0.006109611193112725,\n",
       " 0.01370514074439058,\n",
       " 0.02313370007675729,\n",
       " 0.033273072998687155,\n",
       " 0.043554159817668955,\n",
       " 0.05401079260060604,\n",
       " 0.06465236042520224,\n",
       " 0.07535526340628695,\n",
       " 0.08608920394286107,\n",
       " 0.09683862156249405,\n",
       " 0.1075640834160009,\n",
       " 0.11827990320504907,\n",
       " 0.12900109801263504,\n",
       " 0.1397275413876923,\n",
       " 0.15045912393206448,\n",
       " 0.16119570367181466,\n",
       " 0.1719371470350259,\n",
       " 0.18268333777319265,\n",
       " 0.19343414035525783,\n",
       " 0.20418941445045344,\n",
       " 0.21494903817324487,\n",
       " 0.22571288181702087,\n",
       " 0.23648079949722617,\n",
       " 0.24725266486144776,\n",
       " 0.2580283532532397,\n",
       " 0.26880878299795696,\n",
       " 0.27960090914862235,\n",
       " 0.29039876325877434,\n",
       " 0.30118517119208765,\n",
       " 0.31195849941390125,\n",
       " 0.3227212182905306,\n",
       " 0.33350459745566546,\n",
       " 0.3442818886937216,\n",
       " 0.35502739882219564,\n",
       " 0.3657429098807812,\n",
       " 0.3764298962845432,\n",
       " 0.38711445637963526,\n",
       " 0.39783322997139103,\n",
       " 0.40858605488135663,\n",
       " 0.4193721426334202,\n",
       " 0.43017830900415494,\n",
       " 0.4409573305010514,\n",
       " 0.45172790663824214,\n",
       " 0.46250517390586726,\n",
       " 0.47328951502343525,\n",
       " 0.48408111554715966,\n",
       " 0.49487490872098133,\n",
       " 0.5056685294183247,\n",
       " 0.5164619191878449,\n",
       " 0.5272550185700763,\n",
       " 0.538047769807962,\n",
       " 0.5488401145514649,\n",
       " 0.5596319934391053,\n",
       " 0.5704233485439291,\n",
       " 0.5812141216204684,\n",
       " 0.5920042534086314,\n",
       " 0.602793685807008,\n",
       " 0.6135840245366975,\n",
       " 0.6243805262405263,\n",
       " 0.6351834079411556,\n",
       " 0.6459835600989463,\n",
       " 0.65677669647181,\n",
       " 0.6675630645869804,\n",
       " 0.6783429348178385,\n",
       " 0.6891165056072681,\n",
       " 0.6998840054941735,\n",
       " 0.7106457134805344,\n",
       " 0.721401900718687,\n",
       " 0.7321555266379772,\n",
       " 0.742908177734797,\n",
       " 0.753659171989869,\n",
       " 0.7644078091358975,\n",
       " 0.7751534268769158,\n",
       " 0.7858953478579311,\n",
       " 0.7966328823502482,\n",
       " 0.8073653580322585,\n",
       " 0.8180921087583235,\n",
       " 0.8288124571452764,\n",
       " 0.8395257205105193,\n",
       " 0.8502312457088192,\n",
       " 0.8609283655624806,\n",
       " 0.8716163987619134,\n",
       " 0.8822961330805695,\n",
       " 0.892977083823789,\n",
       " 0.9036621294802024,\n",
       " 0.9143521874171552,\n",
       " 0.9250480828921622,\n",
       " 0.9357507389102209,\n",
       " 0.9464611457979726,\n",
       " 0.9571801200884288,\n",
       " 0.9679029829972787,\n",
       " 0.978615104744405,\n",
       " 0.9893163870696579,\n",
       " 1.0000077388872795]"
      ]
     },
     "execution_count": 29,
     "metadata": {},
     "output_type": "execute_result"
    }
   ],
   "source": [
    "dataset['optimized'][1][0]"
   ]
  },
  {
   "cell_type": "markdown",
   "id": "a1631d22",
   "metadata": {},
   "source": [
    "# Step 3: Flatten columns and get X and Y datasets"
   ]
  },
  {
   "cell_type": "code",
   "execution_count": 52,
   "id": "6feeae83",
   "metadata": {},
   "outputs": [],
   "source": [
    "def recursive_flatten(val):\n",
    "    \"\"\"\n",
    "    Recursively flatten a nested list/tuple into a single list of values.\n",
    "    E.g. [[x0, x1], [y0, y1]] -> [x0, x1, y0, y1].\n",
    "    \"\"\"\n",
    "    if not isinstance(val, (list, tuple)):\n",
    "        return [val]\n",
    "    else:\n",
    "        result = []\n",
    "        for item in val:\n",
    "            result.extend(recursive_flatten(item))\n",
    "        return result\n",
    "\n",
    "def flatten_list_columns_nested(df: pd.DataFrame) -> pd.DataFrame:\n",
    "    \"\"\"\n",
    "    For each column in `df` where the first row is a list,\n",
    "    recursively flatten that column and expand into multiple new numeric columns.\n",
    "    \"\"\"\n",
    "    import pandas as pd\n",
    "    \n",
    "    new_cols_list = []\n",
    "    drop_cols = []\n",
    "    \n",
    "    for col in df.columns:\n",
    "        first_value = df[col].iloc[0]\n",
    "        # Check if the first row is a list/tuple --> likely all rows are lists\n",
    "        if isinstance(first_value, (list, tuple)):\n",
    "            # Flatten each row, store in a temporary list\n",
    "            flattened_rows = [recursive_flatten(val) for val in df[col]]\n",
    "            # Ensure consistent length across rows\n",
    "            lengths = [len(row) for row in flattened_rows]\n",
    "            unique_lengths = set(lengths)\n",
    "            if len(unique_lengths) > 1:\n",
    "                raise ValueError(\n",
    "                    f\"Column '{col}' has rows of varying lengths {unique_lengths}. \"\n",
    "                    \"Cannot flatten consistently without special handling.\"\n",
    "                )\n",
    "            # Create new DataFrame with columns [col_0, col_1, ..., col_(n-1)]\n",
    "            n = lengths[0]\n",
    "            new_col_names = [f\"{col}_{i}\" for i in range(n)]\n",
    "            expanded_df = pd.DataFrame(flattened_rows, columns=new_col_names)\n",
    "            new_cols_list.append(expanded_df)\n",
    "            drop_cols.append(col)\n",
    "    \n",
    "    if new_cols_list:\n",
    "        # Drop original list-columns and concatenate new expanded columns\n",
    "        df = pd.concat(\n",
    "            [df.drop(columns=drop_cols).reset_index(drop=True)] + new_cols_list,\n",
    "            axis=1\n",
    "        )\n",
    "    return df\n",
    "\n",
    "# Flatten the nested list columns\n",
    "df = flatten_list_columns_nested(df)\n"
   ]
  },
  {
   "cell_type": "code",
   "execution_count": 31,
   "id": "2d0c7fd1",
   "metadata": {},
   "outputs": [],
   "source": [
    "# The flattened columns for \"optimized\" will now appear as \"optimized_0\", \"optimized_1\", etc.\n",
    "# Let's find all columns that start with \"optimized_\"\n",
    "opt_cols = [col for col in df.columns if col.startswith(\"optimized_\")]\n",
    "\n",
    "# Or you can do them all if you know the exact count/structure\n",
    "\n",
    "# Additional numeric columns we want\n",
    "other_input_cols = [\"mach\", \"reynolds\", \"alpha\"]\n",
    "\n",
    "# Combine them\n",
    "feature_cols = opt_cols + other_input_cols\n",
    "\n",
    "target_col = \"cl_val\"\n",
    "\n",
    "# Create X and y\n",
    "X = df[feature_cols].values\n",
    "y = df[target_col].values\n"
   ]
  },
  {
   "cell_type": "markdown",
   "id": "db970419",
   "metadata": {},
   "source": [
    "# Step 4: Split Inputs and Targets"
   ]
  },
  {
   "cell_type": "code",
   "execution_count": 32,
   "id": "753e902c",
   "metadata": {},
   "outputs": [
    {
     "name": "stdout",
     "output_type": "stream",
     "text": [
      "Train size: (448, 387), Val size: (150, 387), Test size: (150, 387)\n"
     ]
    }
   ],
   "source": [
    "from sklearn.model_selection import train_test_split\n",
    "from sklearn.preprocessing import StandardScaler\n",
    "\n",
    "# Suppose X is shape [n_samples, n_features], y is shape [n_samples]\n",
    "# (Replace with your actual arrays from the flattened dataset.)\n",
    "\n",
    "# 1) Split off test data (20%)\n",
    "X_temp, X_test, y_temp, y_test = train_test_split(\n",
    "    X, y, test_size=0.2, random_state=42\n",
    ")\n",
    "\n",
    "# 2) Split the remaining into train and validation (25% of X_temp = 20% of total)\n",
    "X_train, X_val, y_train, y_val = train_test_split(\n",
    "    X_temp, y_temp, test_size=0.25, random_state=42\n",
    ")\n",
    "\n",
    "print(f\"Train size: {X_train.shape}, Val size: {X_val.shape}, Test size: {X_test.shape}\")\n",
    "\n",
    "scaler_X = StandardScaler()\n",
    "X_train_scaled = scaler_X.fit_transform(X_train)\n",
    "X_val_scaled = scaler_X.transform(X_val)\n",
    "X_test_scaled = scaler_X.transform(X_test)\n",
    "\n",
    "# Optionally scale target as well\n",
    "scaler_y = StandardScaler()\n",
    "y_train_scaled = scaler_y.fit_transform(y_train.reshape(-1, 1)).flatten()\n",
    "y_val_scaled = scaler_y.transform(y_val.reshape(-1, 1)).flatten()\n",
    "y_test_scaled = scaler_y.transform(y_test.reshape(-1, 1)).flatten()\n"
   ]
  },
  {
   "cell_type": "markdown",
   "id": "d2a81a60",
   "metadata": {},
   "source": [
    "# Step 5: Define a Pytorch Dataset and Model"
   ]
  },
  {
   "cell_type": "code",
   "execution_count": null,
   "id": "d86f6e0d",
   "metadata": {},
   "outputs": [
    {
     "name": "stdout",
     "output_type": "stream",
     "text": [
      "Epoch 1/100 - Train Loss: 0.7395, Val Loss: 0.6524\n",
      "Epoch 2/100 - Train Loss: 0.5245, Val Loss: 0.5493\n",
      "Epoch 3/100 - Train Loss: 0.3802, Val Loss: 0.4495\n",
      "Epoch 4/100 - Train Loss: 0.3248, Val Loss: 0.4305\n",
      "Epoch 5/100 - Train Loss: 0.2520, Val Loss: 0.3603\n",
      "Epoch 6/100 - Train Loss: 0.2050, Val Loss: 0.2966\n",
      "Epoch 7/100 - Train Loss: 0.1689, Val Loss: 0.2886\n",
      "Epoch 8/100 - Train Loss: 0.1524, Val Loss: 0.2350\n",
      "Epoch 9/100 - Train Loss: 0.1245, Val Loss: 0.2226\n",
      "Epoch 10/100 - Train Loss: 0.1036, Val Loss: 0.2187\n",
      "Epoch 11/100 - Train Loss: 0.1011, Val Loss: 0.1825\n",
      "Epoch 12/100 - Train Loss: 0.0900, Val Loss: 0.1778\n",
      "Epoch 13/100 - Train Loss: 0.0818, Val Loss: 0.1488\n",
      "Epoch 14/100 - Train Loss: 0.0787, Val Loss: 0.1366\n",
      "Epoch 15/100 - Train Loss: 0.0795, Val Loss: 0.1323\n",
      "Epoch 16/100 - Train Loss: 0.0704, Val Loss: 0.1219\n",
      "Epoch 17/100 - Train Loss: 0.0646, Val Loss: 0.1189\n",
      "Epoch 18/100 - Train Loss: 0.0453, Val Loss: 0.1147\n",
      "Epoch 19/100 - Train Loss: 0.0436, Val Loss: 0.1137\n",
      "Epoch 20/100 - Train Loss: 0.0426, Val Loss: 0.1374\n",
      "Epoch 21/100 - Train Loss: 0.0551, Val Loss: 0.1483\n",
      "Epoch 22/100 - Train Loss: 0.1041, Val Loss: 0.2204\n",
      "Epoch 23/100 - Train Loss: 0.1012, Val Loss: 0.1089\n",
      "Epoch 24/100 - Train Loss: 0.0762, Val Loss: 0.1018\n",
      "Epoch 25/100 - Train Loss: 0.0501, Val Loss: 0.1020\n",
      "Epoch 26/100 - Train Loss: 0.0497, Val Loss: 0.1130\n",
      "Epoch 27/100 - Train Loss: 0.0428, Val Loss: 0.0987\n",
      "Epoch 28/100 - Train Loss: 0.0324, Val Loss: 0.0853\n",
      "Epoch 29/100 - Train Loss: 0.0295, Val Loss: 0.0999\n",
      "Epoch 30/100 - Train Loss: 0.0376, Val Loss: 0.0898\n",
      "Epoch 31/100 - Train Loss: 0.0302, Val Loss: 0.0807\n",
      "Epoch 32/100 - Train Loss: 0.0222, Val Loss: 0.0841\n",
      "Epoch 33/100 - Train Loss: 0.0271, Val Loss: 0.0862\n",
      "Epoch 34/100 - Train Loss: 0.0252, Val Loss: 0.0766\n",
      "Epoch 35/100 - Train Loss: 0.0221, Val Loss: 0.0784\n",
      "Epoch 36/100 - Train Loss: 0.0202, Val Loss: 0.0786\n",
      "Epoch 37/100 - Train Loss: 0.0283, Val Loss: 0.0791\n",
      "Epoch 38/100 - Train Loss: 0.0214, Val Loss: 0.0790\n",
      "Epoch 39/100 - Train Loss: 0.0172, Val Loss: 0.0665\n",
      "Epoch 40/100 - Train Loss: 0.0153, Val Loss: 0.0689\n",
      "Epoch 41/100 - Train Loss: 0.0126, Val Loss: 0.0660\n",
      "Epoch 42/100 - Train Loss: 0.0118, Val Loss: 0.0668\n",
      "Epoch 43/100 - Train Loss: 0.0120, Val Loss: 0.0693\n",
      "Epoch 44/100 - Train Loss: 0.0120, Val Loss: 0.0651\n",
      "Epoch 45/100 - Train Loss: 0.0122, Val Loss: 0.0624\n",
      "Epoch 46/100 - Train Loss: 0.0137, Val Loss: 0.0629\n",
      "Epoch 47/100 - Train Loss: 0.0128, Val Loss: 0.0678\n",
      "Epoch 48/100 - Train Loss: 0.0114, Val Loss: 0.0610\n",
      "Epoch 49/100 - Train Loss: 0.0111, Val Loss: 0.0672\n",
      "Epoch 50/100 - Train Loss: 0.0159, Val Loss: 0.0837\n",
      "Epoch 51/100 - Train Loss: 0.0195, Val Loss: 0.0628\n",
      "Epoch 52/100 - Train Loss: 0.0171, Val Loss: 0.0667\n",
      "Epoch 53/100 - Train Loss: 0.0251, Val Loss: 0.0657\n",
      "Epoch 54/100 - Train Loss: 0.0257, Val Loss: 0.0708\n",
      "Epoch 55/100 - Train Loss: 0.0278, Val Loss: 0.0560\n",
      "Epoch 56/100 - Train Loss: 0.0191, Val Loss: 0.0536\n",
      "Epoch 57/100 - Train Loss: 0.0139, Val Loss: 0.0637\n",
      "Epoch 58/100 - Train Loss: 0.0132, Val Loss: 0.0590\n",
      "Epoch 59/100 - Train Loss: 0.0166, Val Loss: 0.0524\n",
      "Epoch 60/100 - Train Loss: 0.0260, Val Loss: 0.0746\n",
      "Epoch 61/100 - Train Loss: 0.0222, Val Loss: 0.0743\n",
      "Epoch 62/100 - Train Loss: 0.0340, Val Loss: 0.0967\n",
      "Epoch 63/100 - Train Loss: 0.0344, Val Loss: 0.0599\n",
      "Epoch 64/100 - Train Loss: 0.0191, Val Loss: 0.0721\n",
      "Epoch 65/100 - Train Loss: 0.0130, Val Loss: 0.0629\n",
      "Epoch 66/100 - Train Loss: 0.0175, Val Loss: 0.0552\n",
      "Epoch 67/100 - Train Loss: 0.0238, Val Loss: 0.0577\n",
      "Epoch 68/100 - Train Loss: 0.0196, Val Loss: 0.0639\n",
      "Epoch 69/100 - Train Loss: 0.0120, Val Loss: 0.0573\n",
      "Validation loss has not improved for 10 epochs. Stopping early.\n",
      "Best validation loss = 0.0524 at epoch 59.\n"
     ]
    }
   ],
   "source": [
    "import torch\n",
    "import torch.nn as nn\n",
    "import torch.optim as optim\n",
    "\n",
    "class TabularDataset(torch.utils.data.Dataset):\n",
    "    def __init__(self, X, y):\n",
    "        self.X = torch.from_numpy(X).float()\n",
    "        self.y = torch.from_numpy(y).float()\n",
    "        \n",
    "    def __len__(self):\n",
    "        return len(self.X)\n",
    "    \n",
    "    def __getitem__(self, idx):\n",
    "        return self.X[idx], self.y[idx]\n",
    "\n",
    "train_dataset = TabularDataset(X_train_scaled, y_train_scaled)\n",
    "val_dataset   = TabularDataset(X_val_scaled,   y_val_scaled)\n",
    "test_dataset  = TabularDataset(X_test_scaled,  y_test_scaled)\n",
    "\n",
    "batch_size = 32\n",
    "train_loader = torch.utils.data.DataLoader(train_dataset, batch_size=batch_size, shuffle=True)\n",
    "val_loader   = torch.utils.data.DataLoader(val_dataset,   batch_size=batch_size, shuffle=False)\n",
    "test_loader  = torch.utils.data.DataLoader(test_dataset,  batch_size=batch_size, shuffle=False)\n",
    "\n",
    "\n",
    "class SimpleRegressor(nn.Module):\n",
    "    def __init__(self, input_dim, hidden_dim, output_dim=1):\n",
    "        super(SimpleRegressor, self).__init__()\n",
    "        self.net = nn.Sequential(\n",
    "            nn.Linear(input_dim, hidden_dim),\n",
    "            nn.ReLU(),\n",
    "            nn.Linear(hidden_dim, output_dim)\n",
    "        )\n",
    "\n",
    "    def forward(self, x):\n",
    "        return self.net(x)\n",
    "\n",
    "input_dim = X_train_scaled.shape[1]  # Number of features\n",
    "hidden_dim = 64\n",
    "model = SimpleRegressor(input_dim, hidden_dim, output_dim=1)\n",
    "\n",
    "\n",
    "criterion = nn.MSELoss()\n",
    "optimizer = optim.Adam(model.parameters(), lr=1e-3)\n",
    "\n",
    "\n",
    "if torch.backends.mps.is_available():\n",
    "    device = torch.device(\"mps\")\n",
    "elif torch.cuda.is_available():\n",
    "    device = torch.device(\"cuda\")\n",
    "else:\n",
    "    device = torch.device(\"cpu\")\n",
    "\n",
    "print(f\"Using device: {device}\")\n",
    "\n",
    "model.to(device)\n",
    "\n",
    "num_epochs = 100\n",
    "patience = 10  # Early stopping patience\n",
    "best_val_loss = float(\"inf\")\n",
    "epochs_no_improve = 0\n",
    "\n",
    "train_losses = []\n",
    "val_losses = []\n",
    "\n",
    "best_model_weights = None\n",
    "best_epoch = 0\n",
    "\n",
    "for epoch in range(num_epochs):\n",
    "    model.train()\n",
    "    running_train_loss = 0.0\n",
    "\n",
    "    # --- Training Loop ---\n",
    "    for X_batch, y_batch in train_loader:\n",
    "        X_batch = X_batch.to(device)\n",
    "        y_batch = y_batch.to(device)\n",
    "\n",
    "        optimizer.zero_grad()\n",
    "        predictions = model(X_batch).squeeze(-1)\n",
    "        loss = criterion(predictions, y_batch)\n",
    "        loss.backward()\n",
    "        optimizer.step()\n",
    "        \n",
    "        running_train_loss += loss.item() * X_batch.size(0)\n",
    "\n",
    "    epoch_train_loss = running_train_loss / len(train_loader.dataset)\n",
    "    train_losses.append(epoch_train_loss)\n",
    "\n",
    "    # --- Validation Loop ---\n",
    "    model.eval()\n",
    "    running_val_loss = 0.0\n",
    "    with torch.no_grad():\n",
    "        for X_batch, y_batch in val_loader:\n",
    "            X_batch = X_batch.to(device)\n",
    "            y_batch = y_batch.to(device)\n",
    "            \n",
    "            predictions = model(X_batch).squeeze(-1)\n",
    "            loss = criterion(predictions, y_batch)\n",
    "            running_val_loss += loss.item() * X_batch.size(0)\n",
    "\n",
    "    epoch_val_loss = running_val_loss / len(val_loader.dataset)\n",
    "    val_losses.append(epoch_val_loss)\n",
    "\n",
    "    # Check for improvement\n",
    "    if epoch_val_loss < best_val_loss:\n",
    "        best_val_loss = epoch_val_loss\n",
    "        best_epoch = epoch\n",
    "        epochs_no_improve = 0\n",
    "        # Store best weights\n",
    "        best_model_weights = model.state_dict()\n",
    "    else:\n",
    "        epochs_no_improve += 1\n",
    "\n",
    "    print(f\"Epoch {epoch+1}/{num_epochs} \"\n",
    "          f\"- Train Loss: {epoch_train_loss:.4f}, Val Loss: {epoch_val_loss:.4f}\")\n",
    "\n",
    "    # Early stopping condition\n",
    "    if epochs_no_improve >= patience:\n",
    "        print(f\"Validation loss has not improved for {patience} epochs. Stopping early.\")\n",
    "        break\n",
    "\n",
    "# --- After training, restore the best weights ---\n",
    "print(f\"Best validation loss = {best_val_loss:.4f} at epoch {best_epoch+1}.\")\n",
    "if best_model_weights is not None:\n",
    "    model.load_state_dict(best_model_weights)\n",
    "\n"
   ]
  },
  {
   "cell_type": "code",
   "execution_count": 34,
   "id": "0cde5eb7",
   "metadata": {},
   "outputs": [
    {
     "data": {
      "image/png": "[encoded data removed]",
      "text/plain": [
       "<Figure size 800x500 with 1 Axes>"
      ]
     },
     "metadata": {},
     "output_type": "display_data"
    }
   ],
   "source": [
    "plt.figure(figsize=(8, 5))\n",
    "plt.plot(train_losses, label=\"Train Loss\")\n",
    "plt.plot(val_losses, label=\"Val Loss\")\n",
    "plt.xlabel(\"Epoch\")\n",
    "plt.ylabel(\"MSE Loss\")\n",
    "plt.title(\"Training & Validation Loss\")\n",
    "plt.legend()\n",
    "plt.show()\n"
   ]
  },
  {
   "cell_type": "markdown",
   "id": "7e9bf969",
   "metadata": {},
   "source": [
    "# Step 6: Predictions and Inverse Transform"
   ]
  },
  {
   "cell_type": "code",
   "execution_count": 35,
   "id": "8f9083b6",
   "metadata": {},
   "outputs": [
    {
     "name": "stdout",
     "output_type": "stream",
     "text": [
      "Test MSE:  0.0022\n",
      "Test RMSE: 0.0474\n",
      "\n",
      "Sample of predictions vs true values:\n",
      "Predicted: 0.7814,  True: 0.7862,  Diff: -0.0049\n",
      "Predicted: 0.9527,  True: 0.9167,  Diff: 0.0359\n",
      "Predicted: 0.7288,  True: 0.7405,  Diff: -0.0116\n",
      "Predicted: 0.8102,  True: 0.8399,  Diff: -0.0297\n",
      "Predicted: 0.8373,  True: 0.8537,  Diff: -0.0164\n"
     ]
    }
   ],
   "source": [
    "model.eval()\n",
    "test_preds_scaled = []\n",
    "test_targets_scaled = []\n",
    "\n",
    "with torch.no_grad():\n",
    "    for X_batch, y_batch in test_loader:\n",
    "        X_batch = X_batch.to(device)\n",
    "        y_batch = y_batch.to(device)\n",
    "        preds = model(X_batch).squeeze(-1)\n",
    "\n",
    "        test_preds_scaled.append(preds.cpu().numpy())\n",
    "        test_targets_scaled.append(y_batch.cpu().numpy())\n",
    "\n",
    "test_preds_scaled = np.concatenate(test_preds_scaled)\n",
    "test_targets_scaled = np.concatenate(test_targets_scaled)\n",
    "\n",
    "# Inverse transform if you scaled the target\n",
    "test_preds = scaler_y.inverse_transform(test_preds_scaled.reshape(-1, 1)).flatten()\n",
    "test_targets = scaler_y.inverse_transform(test_targets_scaled.reshape(-1, 1)).flatten()\n",
    "\n",
    "# Calculate the final test MSE or RMSE\n",
    "mse_test = np.mean((test_preds - test_targets)**2)\n",
    "rmse_test = np.sqrt(mse_test)\n",
    "print(f\"Test MSE:  {mse_test:.4f}\")\n",
    "print(f\"Test RMSE: {rmse_test:.4f}\")\n",
    "\n",
    "# Display a small sample of true vs predicted\n",
    "print(\"\\nSample of predictions vs true values:\")\n",
    "for i in range(5):\n",
    "    print(f\"Predicted: {test_preds[i]:.4f},  True: {test_targets[i]:.4f},  Diff: {test_preds[i] - test_targets[i]:.4f}\")\n"
   ]
  },
  {
   "cell_type": "code",
   "execution_count": null,
   "id": "dac8e10b",
   "metadata": {},
   "outputs": [],
   "source": [
    "# Step 1: Setup"
   ]
  },
  {
   "cell_type": "code",
   "execution_count": 1,
   "id": "5273daa4",
   "metadata": {},
   "outputs": [
    {
     "name": "stderr",
     "output_type": "stream",
     "text": [
      "/opt/anaconda3/envs/engibench/lib/python3.11/site-packages/tqdm/auto.py:21: TqdmWarning: IProgress not found. Please update jupyter and ipywidgets. See https://ipywidgets.readthedocs.io/en/stable/user_install.html\n",
      "  from .autonotebook import tqdm as notebook_tqdm\n"
     ]
    },
    {
     "name": "stdout",
     "output_type": "stream",
     "text": [
      "Dataset saved to ./data/airfoil_data.csv\n"
     ]
    }
   ],
   "source": [
    "from datasets import load_dataset\n",
    "import pandas as pd\n",
    "import os\n",
    "\n",
    "# Specify the directory and file path\n",
    "csv_directory = \"./data\"\n",
    "csv_file_name = \"airfoil_data.csv\"\n",
    "csv_path = os.path.join(csv_directory, csv_file_name)\n",
    "absolute_csv_path = os.path.abspath(csv_path)\n",
    "\n",
    "# Create the directory if it doesn't exist\n",
    "os.makedirs(csv_directory, exist_ok=True)\n",
    "\n",
    "# Load dataset from Hugging Face\n",
    "dataset = load_dataset(\"IDEALLab/airfoil_2d_v0\", split=\"train\")\n",
    "\n",
    "# Convert to pandas DataFrame\n",
    "df = pd.DataFrame(dataset)\n",
    "\n",
    "# Save to CSV\n",
    "df.to_csv(absolute_csv_path, index=False)\n",
    "\n",
    "print(f\"Dataset saved to {csv_path}\")\n",
    "\n"
   ]
  },
  {
   "cell_type": "markdown",
   "id": "1002c330",
   "metadata": {},
   "source": [
    "## Step "
   ]
  },
  {
   "cell_type": "markdown",
   "id": "23110d90-27af-4110-aecf-15c70a6bf312",
   "metadata": {},
   "source": [
    "## Step 2: Load surrogate model from engiopt"
   ]
  },
  {
   "cell_type": "code",
   "execution_count": null,
   "id": "95eb27a2-25c1-49db-8494-bda712d135db",
   "metadata": {},
   "outputs": [
    {
     "name": "stdout",
     "output_type": "stream",
     "text": [
      "Traceback (most recent call last):\n",
      "  File \"/Users/smassoudi/Library/CloudStorage/OneDrive-ETHZurich/Code_Collaborative/EngiBench/../EngiOpt/engiopt/ann_tabular_regression.py\", line 116, in __post_init__\n",
      "    parsed_value = ast.literal_eval(value[0])\n",
      "                   ^^^^^^^^^^^^^^^^^^^^^^^^^^\n",
      "  File \"/opt/anaconda3/envs/engibench/lib/python3.11/ast.py\", line 110, in literal_eval\n",
      "    return _convert(node_or_string)\n",
      "           ^^^^^^^^^^^^^^^^^^^^^^^^\n",
      "  File \"/opt/anaconda3/envs/engibench/lib/python3.11/ast.py\", line 109, in _convert\n",
      "    return _convert_signed_num(node)\n",
      "           ^^^^^^^^^^^^^^^^^^^^^^^^^\n",
      "  File \"/opt/anaconda3/envs/engibench/lib/python3.11/ast.py\", line 83, in _convert_signed_num\n",
      "    return _convert_num(node)\n",
      "           ^^^^^^^^^^^^^^^^^^\n",
      "  File \"/opt/anaconda3/envs/engibench/lib/python3.11/ast.py\", line 74, in _convert_num\n",
      "    _raise_malformed_node(node)\n",
      "  File \"/opt/anaconda3/envs/engibench/lib/python3.11/ast.py\", line 71, in _raise_malformed_node\n",
      "    raise ValueError(msg + f': {node!r}')\n",
      "ValueError: malformed node or string on line 1: <ast.Name object at 0x3615c2aa0>\n",
      "\n",
      "During handling of the above exception, another exception occurred:\n",
      "\n",
      "Traceback (most recent call last):\n",
      "  File \"/Users/smassoudi/Library/CloudStorage/OneDrive-ETHZurich/Code_Collaborative/EngiBench/../EngiOpt/engiopt/ann_tabular_regression.py\", line 600, in <module>\n",
      "    args = tyro.cli(Args)\n",
      "           ^^^^^^^^^^^^^^\n",
      "  File \"/opt/anaconda3/envs/engibench/lib/python3.11/site-packages/tyro/_cli.py\", line 189, in cli\n",
      "    return run_with_args_from_cli()\n",
      "           ^^^^^^^^^^^^^^^^^^^^^^^^\n",
      "  File \"<string>\", line 25, in __init__\n",
      "  File \"/Users/smassoudi/Library/CloudStorage/OneDrive-ETHZurich/Code_Collaborative/EngiBench/../EngiOpt/engiopt/ann_tabular_regression.py\", line 120, in __post_init__\n",
      "    raise ValueError(f\"Invalid format for --{field_name}: {value}. Expected a list format like ['col1', 'col2']\")\n",
      "ValueError: Invalid format for --flatten_columns: ['optimized']. Expected a list format like ['col1', 'col2']\n",
      "\u001b[0m"
     ]
    }
   ],
   "source": [
    "import sys\n",
    "import os\n",
    "\n",
    "# Add the path to the directory containing your AutoGluon script\n",
    "sys.path.append(os.path.abspath(\"../EngiOpt/engiopt\"))\n",
    "\n",
    "# Now you can import and use the script as if it's in the same directory\n",
    "#from autogluon_multimodal import main\n",
    "\n",
    "\n",
    "!python ../EngiOpt/engiopt/ann_tabular_regression.py \\\n",
    "    --data_path \"../Engibench/data/airfoil_data.csv\" \\\n",
    "    --input_cols '[\"optimized\", \"mach\", \"reynolds\", \"alpha\"]' \\\n",
    "    --target_col \"cl_val\" \\\n",
    "    --no-auto_detect_flatten \\\n",
    "    --hidden_layers 2 \\\n",
    "    --hidden_size 64 \\\n",
    "    --activation relu \\\n",
    "    --optimizer adam \\\n",
    "    --learning_rate 1e-3 \\\n",
    "    --n_epochs 50 \\\n",
    "    --batch_size 32 \\\n",
    "    --patience 10 \\\n",
    "    --scale_target \\\n",
    "    --no-track \\\n",
    "    --wandb_project \"engiopt_ann_tabular_regression\" \\\n",
    "    --seed 42 \\\n",
    "    --save_model \\\n",
    "\n",
    "\n",
    "\n",
    "\n"
   ]
  },
  {
   "cell_type": "code",
   "execution_count": 28,
   "id": "44ed0ebe-b218-44ee-819b-7d211050b8c9",
   "metadata": {},
   "outputs": [
    {
     "name": "stdout",
     "output_type": "stream",
     "text": [
      "u22-gcc-ompi-stable: Pulling from mdolab/public\n",
      "Digest: sha256:8a2349b7a2587b3317ad09b6a8096f615cc4c4283f43879e897e3ad53e830cd9\n",
      "Status: Image is up to date for mdolab/public:u22-gcc-ompi-stable\n",
      "docker.io/mdolab/public:u22-gcc-ompi-stable\n",
      "Creating study directory: /Users/ffelte/Documents/EngiBench/engibench_studies/problems/airfoil2d/study_99\n",
      "Copying files from /Users/ffelte/Documents/EngiBench/engibench/problems/airfoil2d/templates to /Users/ffelte/Documents/EngiBench/engibench_studies/problems/airfoil2d/study_99\n",
      "Creating study directory: /Users/ffelte/Documents/EngiBench/engibench_studies/problems/airfoil2d\n",
      "Copying files from /Users/ffelte/Documents/EngiBench/engibench/problems/airfoil2d/scripts to /Users/ffelte/Documents/EngiBench/engibench_studies/problems/airfoil2d\n"
     ]
    },
    {
     "name": "stderr",
     "output_type": "stream",
     "text": [
      "\n",
      "What's Next?\n",
      "  View a summary of image vulnerabilities and recommendations → docker scout quickview mdolab/public:u22-gcc-ompi-stable\n"
     ]
    }
   ],
   "source": [
    "problem = airfoil2d_v0.build()\n",
    "problem.reset(99)"
   ]
  },
  {
   "cell_type": "markdown",
   "id": "76f4aa2b-c07b-4e57-84b2-25c249683951",
   "metadata": {},
   "source": [
    "## Step 2: Inspect the Problem"
   ]
  },
  {
   "cell_type": "markdown",
   "id": "b90afd04-2c81-4af7-97e6-37cc43ac2faf",
   "metadata": {},
   "source": [
    "### 2.1: Representation, Objectives, Boundary Conditions\n",
    "The output just below means our airfoil is parameterized by 192 (`x, y`) positions in `[0, 1]`."
   ]
  },
  {
   "cell_type": "code",
   "execution_count": 22,
   "id": "79bc79cd-9301-422d-a4c0-d388a3444616",
   "metadata": {},
   "outputs": [
    {
     "data": {
      "text/plain": [
       "Box(0.0, 1.0, (2, 192), float32)"
      ]
     },
     "execution_count": 22,
     "metadata": {},
     "output_type": "execute_result"
    }
   ],
   "source": [
    "problem.design_space"
   ]
  },
  {
   "cell_type": "code",
   "execution_count": 23,
   "id": "5f264428-56d9-44e3-b242-2a4e5e355b68",
   "metadata": {},
   "outputs": [
    {
     "data": {
      "text/plain": [
       "frozenset({('cd', 'minimize'), ('cl', 'maximize')})"
      ]
     },
     "execution_count": 23,
     "metadata": {},
     "output_type": "execute_result"
    }
   ],
   "source": [
    "problem.possible_objectives"
   ]
  },
  {
   "cell_type": "code",
   "execution_count": 24,
   "id": "d50ffe26-0275-480f-82df-f05e6eac7ced",
   "metadata": {},
   "outputs": [
    {
     "data": {
      "text/plain": [
       "frozenset({('marchDist', 100.0), ('s0', 3e-06)})"
      ]
     },
     "execution_count": 24,
     "metadata": {},
     "output_type": "execute_result"
    }
   ],
   "source": [
    "problem.boundary_conditions"
   ]
  },
  {
   "cell_type": "markdown",
   "id": "90ae1749-f824-4b81-88e8-7232ab30bd80",
   "metadata": {},
   "source": [
    "### 2.2 Data\n",
    "We can directly access [the dataset linked to the problem](https://huggingface.co/datasets/IDEALLab/airfoil_2d_v0) doing the following:"
   ]
  },
  {
   "cell_type": "code",
   "execution_count": 25,
   "id": "6e5daaff-8720-474d-95cf-d64d4086d1e4",
   "metadata": {},
   "outputs": [
    {
     "data": {
      "text/plain": [
       "DatasetDict({\n",
       "    train: Dataset({\n",
       "        features: ['initial', 'optimized', 'mach', 'reynolds', 'cl_target', 'area_target', 'alpha', 'area_initial', 'cd_val', 'cl_val', 'cl_con', 'area_con'],\n",
       "        num_rows: 748\n",
       "    })\n",
       "    val: Dataset({\n",
       "        features: ['initial', 'optimized', 'mach', 'reynolds', 'cl_target', 'area_target', 'alpha', 'area_initial', 'cd_val', 'cl_val', 'cl_con', 'area_con'],\n",
       "        num_rows: 140\n",
       "    })\n",
       "    test: Dataset({\n",
       "        features: ['initial', 'optimized', 'mach', 'reynolds', 'cl_target', 'area_target', 'alpha', 'area_initial', 'cd_val', 'cl_val', 'cl_con', 'area_con'],\n",
       "        num_rows: 47\n",
       "    })\n",
       "})"
      ]
     },
     "execution_count": 25,
     "metadata": {},
     "output_type": "execute_result"
    }
   ],
   "source": [
    "problem.dataset"
   ]
  },
  {
   "cell_type": "markdown",
   "id": "43a3e506-073e-473f-a835-0396258e62ee",
   "metadata": {},
   "source": [
    "## Step 3: Creating a Design and Launching the Simulator\n",
    "While you usually would generate a design based on a generative or surrogate mode, we here show how to play with a rather random one."
   ]
  },
  {
   "cell_type": "code",
   "execution_count": null,
   "id": "b74db0b1-e661-4841-8b04-05aff15e4635",
   "metadata": {},
   "outputs": [],
   "source": [
    "my_design = problem.random_design()\n",
    "my_design"
   ]
  },
  {
   "cell_type": "markdown",
   "id": "ce3a65d7-df96-4f23-be89-450e42ad7a11",
   "metadata": {},
   "source": [
    "You can also render designs to see what they look like."
   ]
  },
  {
   "cell_type": "code",
   "execution_count": 27,
   "id": "e7987839-6a4a-4988-9080-768bfc46a3b5",
   "metadata": {},
   "outputs": [
    {
     "data": {
      "text/plain": [
       "(<Figure size 640x480 with 1 Axes>, <Axes: >)"
      ]
     },
     "execution_count": 27,
     "metadata": {},
     "output_type": "execute_result"
    },
    {
     "data": {
      "image/png": "[encoded data removed]",
      "text/plain": [
       "<Figure size 640x480 with 1 Axes>"
      ]
     },
     "metadata": {},
     "output_type": "display_data"
    }
   ],
   "source": [
    "problem.render(my_design)"
   ]
  },
  {
   "cell_type": "markdown",
   "id": "652febe8-a36a-47a8-b774-dd8878ba892c",
   "metadata": {},
   "source": [
    "Finally, you can:\n",
    "- Simulate a design to get its objective values with `objs = problem.simulate(my_design)`\n",
    "- Optimize a given design with `optimal_design, objs = problem.optimize(my_design)`\n",
    "\n",
    "Note that this is not trivially doable here since the simulation requires launching a container 😅."
   ]
  }
 ],
 "metadata": {
  "kernelspec": {
   "display_name": "engibench",
   "language": "python",
   "name": "python3"
  },
  "language_info": {
   "codemirror_mode": {
    "name": "ipython",
    "version": 3
   },
   "file_extension": ".py",
   "mimetype": "text/x-python",
   "name": "python",
   "nbconvert_exporter": "python",
   "pygments_lexer": "ipython3",
   "version": "3.11.8"
  }
 },
 "nbformat": 4,
 "nbformat_minor": 5
}
